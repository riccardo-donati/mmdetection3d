{
 "cells": [
  {
   "cell_type": "code",
   "execution_count": 1,
   "metadata": {},
   "outputs": [
    {
     "name": "stdout",
     "output_type": "stream",
     "text": [
      "Non-user install because site-packages writeable\n",
      "Created temporary directory: /tmp/pip-ephem-wheel-cache-1mxmdax0\n",
      "Created temporary directory: /tmp/pip-req-tracker-1i4a88qq\n",
      "Initialized build tracking at /tmp/pip-req-tracker-1i4a88qq\n",
      "Created build tracker: /tmp/pip-req-tracker-1i4a88qq\n",
      "Entered build tracker: /tmp/pip-req-tracker-1i4a88qq\n",
      "Created temporary directory: /tmp/pip-install-tpvpyx9f\n",
      "Obtaining file:///home/riccardo/LidarObjDetection2/mmdetection3d\n",
      "  Added file:///home/riccardo/LidarObjDetection2/mmdetection3d to build tracker '/tmp/pip-req-tracker-1i4a88qq'\n",
      "    Running setup.py (path:/home/riccardo/LidarObjDetection2/mmdetection3d/setup.py) egg_info for package from file:///home/riccardo/LidarObjDetection2/mmdetection3d\n",
      "    Running command python setup.py egg_info\n",
      "    running egg_info\n",
      "    warning: no files found matching '*.cpp' under directory 'mmdet3d/.mim/ops'\n",
      "    warning: no files found matching '*.cu' under directory 'mmdet3d/.mim/ops'\n",
      "    warning: no files found matching '*.h' under directory 'mmdet3d/.mim/ops'\n",
      "    warning: no files found matching '*.cc' under directory 'mmdet3d/.mim/ops'\n",
      "    writing manifest file 'mmdet3d.egg-info/SOURCES.txt'\n",
      "  Source in /home/riccardo/LidarObjDetection2/mmdetection3d has version 1.4.0, which satisfies requirement mmdet3d==1.4.0 from file:///home/riccardo/LidarObjDetection2/mmdetection3d\n",
      "  Removed mmdet3d==1.4.0 from file:///home/riccardo/LidarObjDetection2/mmdetection3d from build tracker '/tmp/pip-req-tracker-1i4a88qq'\n",
      "Requirement already satisfied: lyft_dataset_sdk in /usr/local/lib/python3.8/dist-packages (from mmdet3d==1.4.0) (0.0.8)\n",
      "Requirement already satisfied: networkx>=2.5 in /usr/local/lib/python3.8/dist-packages (from mmdet3d==1.4.0) (2.8.8)\n",
      "Requirement already satisfied: numba in /usr/local/lib/python3.8/dist-packages (from mmdet3d==1.4.0) (0.58.1)\n",
      "Requirement already satisfied: numpy in /usr/local/lib/python3.8/dist-packages (from mmdet3d==1.4.0) (1.24.4)\n",
      "Requirement already satisfied: nuscenes-devkit in /usr/local/lib/python3.8/dist-packages (from mmdet3d==1.4.0) (1.1.11)\n",
      "Requirement already satisfied: open3d in /usr/local/lib/python3.8/dist-packages (from mmdet3d==1.4.0) (0.18.0)\n",
      "Requirement already satisfied: plyfile in /usr/local/lib/python3.8/dist-packages (from mmdet3d==1.4.0) (1.0.3)\n",
      "Requirement already satisfied: scikit-image in /usr/local/lib/python3.8/dist-packages (from mmdet3d==1.4.0) (0.21.0)\n",
      "Requirement already satisfied: tensorboard in /usr/local/lib/python3.8/dist-packages (from mmdet3d==1.4.0) (2.14.0)\n",
      "Requirement already satisfied: trimesh in /usr/local/lib/python3.8/dist-packages (from mmdet3d==1.4.0) (4.1.4)\n",
      "Requirement already satisfied: black in /usr/local/lib/python3.8/dist-packages (from lyft_dataset_sdk->mmdet3d==1.4.0) (24.2.0)\n",
      "Requirement already satisfied: scipy>=1.1.0 in /usr/local/lib/python3.8/dist-packages (from lyft_dataset_sdk->mmdet3d==1.4.0) (1.10.1)\n",
      "Requirement already satisfied: opencv-python>=3.4.2.17 in /usr/local/lib/python3.8/dist-packages (from lyft_dataset_sdk->mmdet3d==1.4.0) (4.5.4.60)\n",
      "Requirement already satisfied: Shapely>=1.6.4.post2 in /usr/local/lib/python3.8/dist-packages (from lyft_dataset_sdk->mmdet3d==1.4.0) (1.8.5.post1)\n",
      "Requirement already satisfied: tqdm>=4.25.0 in /usr/local/lib/python3.8/dist-packages (from lyft_dataset_sdk->mmdet3d==1.4.0) (4.65.2)\n",
      "Requirement already satisfied: cachetools>=3.1.0 in /usr/local/lib/python3.8/dist-packages (from lyft_dataset_sdk->mmdet3d==1.4.0) (5.3.2)\n",
      "Requirement already satisfied: scikit-learn>=0.19.2 in /usr/local/lib/python3.8/dist-packages (from lyft_dataset_sdk->mmdet3d==1.4.0) (1.3.2)\n",
      "Requirement already satisfied: plotly in /usr/local/lib/python3.8/dist-packages (from lyft_dataset_sdk->mmdet3d==1.4.0) (5.19.0)\n",
      "Requirement already satisfied: pandas in /usr/local/lib/python3.8/dist-packages (from lyft_dataset_sdk->mmdet3d==1.4.0) (2.0.3)\n",
      "Requirement already satisfied: matplotlib in /usr/local/lib/python3.8/dist-packages (from lyft_dataset_sdk->mmdet3d==1.4.0) (3.5.3)\n",
      "Requirement already satisfied: pytest in /usr/local/lib/python3.8/dist-packages (from lyft_dataset_sdk->mmdet3d==1.4.0) (8.0.0)\n",
      "Requirement already satisfied: flake8 in /usr/local/lib/python3.8/dist-packages (from lyft_dataset_sdk->mmdet3d==1.4.0) (7.0.0)\n",
      "Requirement already satisfied: pyquaternion>=0.9.5 in /usr/local/lib/python3.8/dist-packages (from lyft_dataset_sdk->mmdet3d==1.4.0) (0.9.9)\n",
      "Requirement already satisfied: Pillow>=5.2.0 in /usr/local/lib/python3.8/dist-packages (from lyft_dataset_sdk->mmdet3d==1.4.0) (10.0.0)\n",
      "Requirement already satisfied: fire in /usr/local/lib/python3.8/dist-packages (from lyft_dataset_sdk->mmdet3d==1.4.0) (0.5.0)\n",
      "Requirement already satisfied: llvmlite<0.42,>=0.41.0dev0 in /usr/local/lib/python3.8/dist-packages (from numba->mmdet3d==1.4.0) (0.41.1)\n",
      "Requirement already satisfied: importlib-metadata; python_version < \"3.9\" in /usr/local/lib/python3.8/dist-packages (from numba->mmdet3d==1.4.0) (7.0.1)\n",
      "Requirement already satisfied: pycocotools>=2.0.1 in /usr/local/lib/python3.8/dist-packages (from nuscenes-devkit->mmdet3d==1.4.0) (2.0.7)\n",
      "Requirement already satisfied: descartes in /usr/local/lib/python3.8/dist-packages (from nuscenes-devkit->mmdet3d==1.4.0) (1.1.0)\n",
      "Requirement already satisfied: werkzeug>=2.2.3 in /usr/local/lib/python3.8/dist-packages (from open3d->mmdet3d==1.4.0) (3.0.1)\n",
      "Requirement already satisfied: dash>=2.6.0 in /usr/local/lib/python3.8/dist-packages (from open3d->mmdet3d==1.4.0) (2.15.0)\n",
      "Requirement already satisfied: nbformat>=5.7.0 in /usr/local/lib/python3.8/dist-packages (from open3d->mmdet3d==1.4.0) (5.9.2)\n",
      "Requirement already satisfied: configargparse in /usr/local/lib/python3.8/dist-packages (from open3d->mmdet3d==1.4.0) (1.7)\n",
      "Requirement already satisfied: pyyaml>=5.4.1 in /usr/local/lib/python3.8/dist-packages (from open3d->mmdet3d==1.4.0) (6.0.1)\n",
      "Requirement already satisfied: addict in /usr/local/lib/python3.8/dist-packages (from open3d->mmdet3d==1.4.0) (2.4.0)\n",
      "Requirement already satisfied: ipywidgets>=8.0.4 in /usr/local/lib/python3.8/dist-packages (from open3d->mmdet3d==1.4.0) (8.1.2)\n",
      "Requirement already satisfied: PyWavelets>=1.1.1 in /usr/local/lib/python3.8/dist-packages (from scikit-image->mmdet3d==1.4.0) (1.4.1)\n",
      "Requirement already satisfied: imageio>=2.27 in /usr/local/lib/python3.8/dist-packages (from scikit-image->mmdet3d==1.4.0) (2.34.0)\n",
      "Requirement already satisfied: lazy_loader>=0.2 in /usr/local/lib/python3.8/dist-packages (from scikit-image->mmdet3d==1.4.0) (0.3)\n",
      "Requirement already satisfied: packaging>=21 in /usr/local/lib/python3.8/dist-packages (from scikit-image->mmdet3d==1.4.0) (23.1)\n",
      "Requirement already satisfied: tifffile>=2022.8.12 in /usr/local/lib/python3.8/dist-packages (from scikit-image->mmdet3d==1.4.0) (2023.7.10)\n",
      "Requirement already satisfied: google-auth-oauthlib<1.1,>=0.5 in /usr/local/lib/python3.8/dist-packages (from tensorboard->mmdet3d==1.4.0) (1.0.0)\n",
      "Requirement already satisfied: setuptools>=41.0.0 in /usr/local/lib/python3.8/dist-packages (from tensorboard->mmdet3d==1.4.0) (60.2.0)\n",
      "Requirement already satisfied: tensorboard-data-server<0.8.0,>=0.7.0 in /usr/local/lib/python3.8/dist-packages (from tensorboard->mmdet3d==1.4.0) (0.7.2)\n",
      "Requirement already satisfied: grpcio>=1.48.2 in /usr/local/lib/python3.8/dist-packages (from tensorboard->mmdet3d==1.4.0) (1.60.0)\n",
      "Requirement already satisfied: protobuf>=3.19.6 in /usr/local/lib/python3.8/dist-packages (from tensorboard->mmdet3d==1.4.0) (3.20.2)\n",
      "Requirement already satisfied: wheel>=0.26 in /usr/local/lib/python3.8/dist-packages (from tensorboard->mmdet3d==1.4.0) (0.41.2)\n",
      "Requirement already satisfied: markdown>=2.6.8 in /usr/local/lib/python3.8/dist-packages (from tensorboard->mmdet3d==1.4.0) (3.5.2)\n",
      "Requirement already satisfied: google-auth<3,>=1.6.3 in /usr/local/lib/python3.8/dist-packages (from tensorboard->mmdet3d==1.4.0) (2.28.0)\n",
      "Requirement already satisfied: requests<3,>=2.21.0 in /usr/local/lib/python3.8/dist-packages (from tensorboard->mmdet3d==1.4.0) (2.28.2)\n",
      "Requirement already satisfied: absl-py>=0.4 in /usr/local/lib/python3.8/dist-packages (from tensorboard->mmdet3d==1.4.0) (2.1.0)\n",
      "Requirement already satisfied: mypy-extensions>=0.4.3 in /usr/local/lib/python3.8/dist-packages (from black->lyft_dataset_sdk->mmdet3d==1.4.0) (1.0.0)\n",
      "Requirement already satisfied: typing-extensions>=4.0.1; python_version < \"3.11\" in /usr/local/lib/python3.8/dist-packages (from black->lyft_dataset_sdk->mmdet3d==1.4.0) (4.7.1)\n",
      "Requirement already satisfied: platformdirs>=2 in /usr/local/lib/python3.8/dist-packages (from black->lyft_dataset_sdk->mmdet3d==1.4.0) (4.1.0)\n",
      "Requirement already satisfied: click>=8.0.0 in /usr/local/lib/python3.8/dist-packages (from black->lyft_dataset_sdk->mmdet3d==1.4.0) (8.1.7)\n",
      "Requirement already satisfied: pathspec>=0.9.0 in /usr/local/lib/python3.8/dist-packages (from black->lyft_dataset_sdk->mmdet3d==1.4.0) (0.12.1)\n",
      "Requirement already satisfied: tomli>=1.1.0; python_version < \"3.11\" in /usr/local/lib/python3.8/dist-packages (from black->lyft_dataset_sdk->mmdet3d==1.4.0) (2.0.1)\n",
      "Requirement already satisfied: threadpoolctl>=2.0.0 in /usr/local/lib/python3.8/dist-packages (from scikit-learn>=0.19.2->lyft_dataset_sdk->mmdet3d==1.4.0) (3.3.0)\n",
      "Requirement already satisfied: joblib>=1.1.1 in /usr/local/lib/python3.8/dist-packages (from scikit-learn>=0.19.2->lyft_dataset_sdk->mmdet3d==1.4.0) (1.3.2)\n",
      "Requirement already satisfied: tenacity>=6.2.0 in /usr/local/lib/python3.8/dist-packages (from plotly->lyft_dataset_sdk->mmdet3d==1.4.0) (8.2.3)\n",
      "Requirement already satisfied: pytz>=2020.1 in /usr/local/lib/python3.8/dist-packages (from pandas->lyft_dataset_sdk->mmdet3d==1.4.0) (2023.4)\n",
      "Requirement already satisfied: tzdata>=2022.1 in /usr/local/lib/python3.8/dist-packages (from pandas->lyft_dataset_sdk->mmdet3d==1.4.0) (2023.4)\n",
      "Requirement already satisfied: python-dateutil>=2.8.2 in /usr/local/lib/python3.8/dist-packages (from pandas->lyft_dataset_sdk->mmdet3d==1.4.0) (2.8.2)\n",
      "Requirement already satisfied: cycler>=0.10 in /usr/local/lib/python3.8/dist-packages (from matplotlib->lyft_dataset_sdk->mmdet3d==1.4.0) (0.12.1)\n",
      "Requirement already satisfied: kiwisolver>=1.0.1 in /usr/local/lib/python3.8/dist-packages (from matplotlib->lyft_dataset_sdk->mmdet3d==1.4.0) (1.4.5)\n",
      "Requirement already satisfied: fonttools>=4.22.0 in /usr/local/lib/python3.8/dist-packages (from matplotlib->lyft_dataset_sdk->mmdet3d==1.4.0) (4.47.2)\n",
      "Requirement already satisfied: pyparsing>=2.2.1 in /usr/local/lib/python3.8/dist-packages (from matplotlib->lyft_dataset_sdk->mmdet3d==1.4.0) (3.1.1)\n",
      "Requirement already satisfied: iniconfig in /usr/local/lib/python3.8/dist-packages (from pytest->lyft_dataset_sdk->mmdet3d==1.4.0) (2.0.0)\n",
      "Requirement already satisfied: pluggy<2.0,>=1.3.0 in /usr/local/lib/python3.8/dist-packages (from pytest->lyft_dataset_sdk->mmdet3d==1.4.0) (1.4.0)\n",
      "Requirement already satisfied: exceptiongroup>=1.0.0rc8; python_version < \"3.11\" in /usr/local/lib/python3.8/dist-packages (from pytest->lyft_dataset_sdk->mmdet3d==1.4.0) (1.2.0)\n",
      "Requirement already satisfied: pycodestyle<2.12.0,>=2.11.0 in /usr/local/lib/python3.8/dist-packages (from flake8->lyft_dataset_sdk->mmdet3d==1.4.0) (2.11.1)\n",
      "Requirement already satisfied: mccabe<0.8.0,>=0.7.0 in /usr/local/lib/python3.8/dist-packages (from flake8->lyft_dataset_sdk->mmdet3d==1.4.0) (0.7.0)\n",
      "Requirement already satisfied: pyflakes<3.3.0,>=3.2.0 in /usr/local/lib/python3.8/dist-packages (from flake8->lyft_dataset_sdk->mmdet3d==1.4.0) (3.2.0)\n",
      "Requirement already satisfied: six in /usr/local/lib/python3.8/dist-packages (from fire->lyft_dataset_sdk->mmdet3d==1.4.0) (1.16.0)\n",
      "Requirement already satisfied: termcolor in /usr/local/lib/python3.8/dist-packages (from fire->lyft_dataset_sdk->mmdet3d==1.4.0) (2.4.0)\n",
      "Requirement already satisfied: zipp>=0.5 in /usr/local/lib/python3.8/dist-packages (from importlib-metadata; python_version < \"3.9\"->numba->mmdet3d==1.4.0) (3.17.0)\n",
      "Requirement already satisfied: MarkupSafe>=2.1.1 in /usr/local/lib/python3.8/dist-packages (from werkzeug>=2.2.3->open3d->mmdet3d==1.4.0) (2.1.3)\n",
      "Requirement already satisfied: dash-html-components==2.0.0 in /usr/local/lib/python3.8/dist-packages (from dash>=2.6.0->open3d->mmdet3d==1.4.0) (2.0.0)\n",
      "Requirement already satisfied: nest-asyncio in /usr/local/lib/python3.8/dist-packages (from dash>=2.6.0->open3d->mmdet3d==1.4.0) (1.6.0)\n",
      "Requirement already satisfied: Flask<3.1,>=1.0.4 in /usr/local/lib/python3.8/dist-packages (from dash>=2.6.0->open3d->mmdet3d==1.4.0) (3.0.2)\n",
      "Requirement already satisfied: dash-table==5.0.0 in /usr/local/lib/python3.8/dist-packages (from dash>=2.6.0->open3d->mmdet3d==1.4.0) (5.0.0)\n",
      "Requirement already satisfied: retrying in /usr/local/lib/python3.8/dist-packages (from dash>=2.6.0->open3d->mmdet3d==1.4.0) (1.3.4)\n",
      "Requirement already satisfied: dash-core-components==2.0.0 in /usr/local/lib/python3.8/dist-packages (from dash>=2.6.0->open3d->mmdet3d==1.4.0) (2.0.0)\n",
      "Requirement already satisfied: fastjsonschema in /usr/local/lib/python3.8/dist-packages (from nbformat>=5.7.0->open3d->mmdet3d==1.4.0) (2.16.3)\n",
      "Requirement already satisfied: traitlets>=5.1 in /usr/local/lib/python3.8/dist-packages (from nbformat>=5.7.0->open3d->mmdet3d==1.4.0) (5.14.1)\n",
      "Requirement already satisfied: jupyter-core in /usr/local/lib/python3.8/dist-packages (from nbformat>=5.7.0->open3d->mmdet3d==1.4.0) (5.7.1)\n",
      "Requirement already satisfied: jsonschema>=2.6 in /usr/local/lib/python3.8/dist-packages (from nbformat>=5.7.0->open3d->mmdet3d==1.4.0) (4.21.1)\n",
      "Requirement already satisfied: jupyterlab-widgets~=3.0.10 in /usr/local/lib/python3.8/dist-packages (from ipywidgets>=8.0.4->open3d->mmdet3d==1.4.0) (3.0.10)\n",
      "Requirement already satisfied: ipython>=6.1.0 in /usr/local/lib/python3.8/dist-packages (from ipywidgets>=8.0.4->open3d->mmdet3d==1.4.0) (8.12.3)\n",
      "Requirement already satisfied: widgetsnbextension~=4.0.10 in /usr/local/lib/python3.8/dist-packages (from ipywidgets>=8.0.4->open3d->mmdet3d==1.4.0) (4.0.10)\n",
      "Requirement already satisfied: comm>=0.1.3 in /usr/local/lib/python3.8/dist-packages (from ipywidgets>=8.0.4->open3d->mmdet3d==1.4.0) (0.2.1)\n",
      "Requirement already satisfied: requests-oauthlib>=0.7.0 in /usr/local/lib/python3.8/dist-packages (from google-auth-oauthlib<1.1,>=0.5->tensorboard->mmdet3d==1.4.0) (1.3.1)\n",
      "Requirement already satisfied: rsa<5,>=3.1.4 in /usr/local/lib/python3.8/dist-packages (from google-auth<3,>=1.6.3->tensorboard->mmdet3d==1.4.0) (4.9)\n",
      "Requirement already satisfied: pyasn1-modules>=0.2.1 in /usr/local/lib/python3.8/dist-packages (from google-auth<3,>=1.6.3->tensorboard->mmdet3d==1.4.0) (0.3.0)\n",
      "Requirement already satisfied: certifi>=2017.4.17 in /usr/local/lib/python3.8/dist-packages (from requests<3,>=2.21.0->tensorboard->mmdet3d==1.4.0) (2023.7.22)\n",
      "Requirement already satisfied: charset-normalizer<4,>=2 in /usr/local/lib/python3.8/dist-packages (from requests<3,>=2.21.0->tensorboard->mmdet3d==1.4.0) (3.2.0)\n",
      "Requirement already satisfied: idna<4,>=2.5 in /usr/local/lib/python3.8/dist-packages (from requests<3,>=2.21.0->tensorboard->mmdet3d==1.4.0) (3.4)\n",
      "Requirement already satisfied: urllib3<1.27,>=1.21.1 in /usr/local/lib/python3.8/dist-packages (from requests<3,>=2.21.0->tensorboard->mmdet3d==1.4.0) (1.26.18)\n",
      "Requirement already satisfied: blinker>=1.6.2 in /usr/local/lib/python3.8/dist-packages (from Flask<3.1,>=1.0.4->dash>=2.6.0->open3d->mmdet3d==1.4.0) (1.7.0)\n",
      "Requirement already satisfied: itsdangerous>=2.1.2 in /usr/local/lib/python3.8/dist-packages (from Flask<3.1,>=1.0.4->dash>=2.6.0->open3d->mmdet3d==1.4.0) (2.1.2)\n",
      "Requirement already satisfied: Jinja2>=3.1.2 in /usr/local/lib/python3.8/dist-packages (from Flask<3.1,>=1.0.4->dash>=2.6.0->open3d->mmdet3d==1.4.0) (3.1.2)\n",
      "Requirement already satisfied: rpds-py>=0.7.1 in /usr/local/lib/python3.8/dist-packages (from jsonschema>=2.6->nbformat>=5.7.0->open3d->mmdet3d==1.4.0) (0.18.0)\n",
      "Requirement already satisfied: pkgutil-resolve-name>=1.3.10; python_version < \"3.9\" in /usr/local/lib/python3.8/dist-packages (from jsonschema>=2.6->nbformat>=5.7.0->open3d->mmdet3d==1.4.0) (1.3.10)\n",
      "Requirement already satisfied: jsonschema-specifications>=2023.03.6 in /usr/local/lib/python3.8/dist-packages (from jsonschema>=2.6->nbformat>=5.7.0->open3d->mmdet3d==1.4.0) (2023.12.1)\n",
      "Requirement already satisfied: referencing>=0.28.4 in /usr/local/lib/python3.8/dist-packages (from jsonschema>=2.6->nbformat>=5.7.0->open3d->mmdet3d==1.4.0) (0.33.0)\n",
      "Requirement already satisfied: importlib-resources>=1.4.0; python_version < \"3.9\" in /usr/local/lib/python3.8/dist-packages (from jsonschema>=2.6->nbformat>=5.7.0->open3d->mmdet3d==1.4.0) (6.1.1)\n",
      "Requirement already satisfied: attrs>=22.2.0 in /usr/local/lib/python3.8/dist-packages (from jsonschema>=2.6->nbformat>=5.7.0->open3d->mmdet3d==1.4.0) (23.2.0)\n",
      "Requirement already satisfied: prompt-toolkit!=3.0.37,<3.1.0,>=3.0.30 in /usr/local/lib/python3.8/dist-packages (from ipython>=6.1.0->ipywidgets>=8.0.4->open3d->mmdet3d==1.4.0) (3.0.43)\n",
      "Requirement already satisfied: backcall in /usr/local/lib/python3.8/dist-packages (from ipython>=6.1.0->ipywidgets>=8.0.4->open3d->mmdet3d==1.4.0) (0.2.0)\n",
      "Requirement already satisfied: pexpect>4.3; sys_platform != \"win32\" in /usr/local/lib/python3.8/dist-packages (from ipython>=6.1.0->ipywidgets>=8.0.4->open3d->mmdet3d==1.4.0) (4.9.0)\n",
      "Requirement already satisfied: matplotlib-inline in /usr/local/lib/python3.8/dist-packages (from ipython>=6.1.0->ipywidgets>=8.0.4->open3d->mmdet3d==1.4.0) (0.1.6)\n",
      "Requirement already satisfied: jedi>=0.16 in /usr/local/lib/python3.8/dist-packages (from ipython>=6.1.0->ipywidgets>=8.0.4->open3d->mmdet3d==1.4.0) (0.19.1)\n",
      "Requirement already satisfied: pygments>=2.4.0 in /usr/local/lib/python3.8/dist-packages (from ipython>=6.1.0->ipywidgets>=8.0.4->open3d->mmdet3d==1.4.0) (2.17.2)\n",
      "Requirement already satisfied: decorator in /usr/local/lib/python3.8/dist-packages (from ipython>=6.1.0->ipywidgets>=8.0.4->open3d->mmdet3d==1.4.0) (5.1.1)\n",
      "Requirement already satisfied: pickleshare in /usr/local/lib/python3.8/dist-packages (from ipython>=6.1.0->ipywidgets>=8.0.4->open3d->mmdet3d==1.4.0) (0.7.5)\n",
      "Requirement already satisfied: stack-data in /usr/local/lib/python3.8/dist-packages (from ipython>=6.1.0->ipywidgets>=8.0.4->open3d->mmdet3d==1.4.0) (0.6.3)\n",
      "Requirement already satisfied: oauthlib>=3.0.0 in /usr/local/lib/python3.8/dist-packages (from requests-oauthlib>=0.7.0->google-auth-oauthlib<1.1,>=0.5->tensorboard->mmdet3d==1.4.0) (3.2.2)\n",
      "Requirement already satisfied: pyasn1>=0.1.3 in /usr/local/lib/python3.8/dist-packages (from rsa<5,>=3.1.4->google-auth<3,>=1.6.3->tensorboard->mmdet3d==1.4.0) (0.5.1)\n",
      "Requirement already satisfied: wcwidth in /usr/local/lib/python3.8/dist-packages (from prompt-toolkit!=3.0.37,<3.1.0,>=3.0.30->ipython>=6.1.0->ipywidgets>=8.0.4->open3d->mmdet3d==1.4.0) (0.2.13)\n",
      "Requirement already satisfied: ptyprocess>=0.5 in /usr/local/lib/python3.8/dist-packages (from pexpect>4.3; sys_platform != \"win32\"->ipython>=6.1.0->ipywidgets>=8.0.4->open3d->mmdet3d==1.4.0) (0.7.0)\n",
      "Requirement already satisfied: parso<0.9.0,>=0.8.3 in /usr/local/lib/python3.8/dist-packages (from jedi>=0.16->ipython>=6.1.0->ipywidgets>=8.0.4->open3d->mmdet3d==1.4.0) (0.8.3)\n",
      "Requirement already satisfied: pure-eval in /usr/local/lib/python3.8/dist-packages (from stack-data->ipython>=6.1.0->ipywidgets>=8.0.4->open3d->mmdet3d==1.4.0) (0.2.2)\n",
      "Requirement already satisfied: executing>=1.2.0 in /usr/local/lib/python3.8/dist-packages (from stack-data->ipython>=6.1.0->ipywidgets>=8.0.4->open3d->mmdet3d==1.4.0) (2.0.1)\n",
      "Requirement already satisfied: asttokens>=2.1.0 in /usr/local/lib/python3.8/dist-packages (from stack-data->ipython>=6.1.0->ipywidgets>=8.0.4->open3d->mmdet3d==1.4.0) (2.4.1)\n",
      "Installing collected packages: mmdet3d\n",
      "  Attempting uninstall: mmdet3d\n",
      "    Found existing installation: mmdet3d 1.4.0\n",
      "    Uninstalling mmdet3d-1.4.0:\n",
      "      Created temporary directory: /usr/local/lib/python3.8/dist-packages/~mdet3d-1.4.0.dist-info\n",
      "      Removing file or directory /usr/local/lib/python3.8/dist-packages/mmdet3d-1.4.0.dist-info/\n",
      "      Created temporary directory: /usr/local/lib/python3.8/dist-packages/~mdet3d\n",
      "      Removing file or directory /usr/local/lib/python3.8/dist-packages/mmdet3d/\n",
      "      Successfully uninstalled mmdet3d-1.4.0\n",
      "  Running setup.py develop for mmdet3d\n",
      "    Running command /usr/bin/python3 -c 'import sys, setuptools, tokenize; sys.argv[0] = '\"'\"'/home/riccardo/LidarObjDetection2/mmdetection3d/setup.py'\"'\"'; __file__='\"'\"'/home/riccardo/LidarObjDetection2/mmdetection3d/setup.py'\"'\"';f=getattr(tokenize, '\"'\"'open'\"'\"', open)(__file__);code=f.read().replace('\"'\"'\\r\\n'\"'\"', '\"'\"'\\n'\"'\"');f.close();exec(compile(code, __file__, '\"'\"'exec'\"'\"'))' develop --no-deps\n",
      "    running develop\n",
      "    /usr/local/lib/python3.8/dist-packages/setuptools/command/easy_install.py:156: EasyInstallDeprecationWarning: easy_install command is deprecated. Use build and pip and other standards-based tools.\n",
      "      warnings.warn(\n",
      "    /usr/local/lib/python3.8/dist-packages/setuptools/command/install.py:34: SetuptoolsDeprecationWarning: setup.py install is deprecated. Use build and pip and other standards-based tools.\n",
      "      warnings.warn(\n",
      "    running egg_info\n",
      "    warning: no files found matching '*.cpp' under directory 'mmdet3d/.mim/ops'\n",
      "    warning: no files found matching '*.cu' under directory 'mmdet3d/.mim/ops'\n",
      "    warning: no files found matching '*.h' under directory 'mmdet3d/.mim/ops'\n",
      "    warning: no files found matching '*.cc' under directory 'mmdet3d/.mim/ops'\n",
      "    writing manifest file 'mmdet3d.egg-info/SOURCES.txt'\n",
      "    /usr/local/lib/python3.8/dist-packages/torch/utils/cpp_extension.py:476: UserWarning: Attempted to use ninja as the BuildExtension backend but we could not find ninja.. Falling back to using the slow distutils backend.\n",
      "      warnings.warn(msg.format('we could not find ninja.'))\n",
      "    running build_ext\n",
      "Successfully installed mmdet3d\n",
      "Cleaning up...\n",
      "Removed build tracker: '/tmp/pip-req-tracker-1i4a88qq'\n"
     ]
    }
   ],
   "source": [
    "!pip install -v -e .."
   ]
  },
  {
   "cell_type": "code",
   "execution_count": 1,
   "metadata": {
    "pycharm": {
     "is_executing": false
    }
   },
   "outputs": [],
   "source": [
    "import sys\n",
    "sys.path.append(\"/home/riccardo/LidarObjDetection2/mmdetection3d\")\n",
    "from mmdet3d.apis import LidarDet3DInferencer\n",
    "import os\n",
    "import torch\n",
    "import os\n",
    "import numpy as np\n",
    "import time\n",
    "from mmdet3d.datasets.transforms.loading import (LoadAnnotations3D,\n",
    "                                                LoadPointsFromFile)\n",
    "from mmdet3d.models.data_preprocessors.data_preprocessor import \\\n",
    "    Det3DDataPreprocessor\n",
    "import onnxruntime as ort\n",
    "from mmdet3d.datasets.transforms.formating import Pack3DDetInputs"
   ]
  },
  {
   "cell_type": "code",
   "execution_count": 12,
   "metadata": {},
   "outputs": [
    {
     "name": "stdout",
     "output_type": "stream",
     "text": [
      "Loads checkpoint by local backend from path: /home/riccardo/LidarObjDetection2/mmdetection3d/work_dirs/pointpillars_hv_secfpn_8xb6-160e_lidar_vegas_iris-3d-car/iter_4750.pth\n"
     ]
    }
   ],
   "source": [
    "# initialize inferencer \n",
    "# execute >> pip install -v -e . in mmdetection3d folder \n",
    "# CHANGE THE center_mode in loca_visualizer accordingly (KITTI -> center_mode = 'lidar_bottom', CUSTOM -> center_mode = whatever)\n",
    "\n",
    "# inferencer = LidarDet3DInferencer('pointpillars_hv_secfpn_8xb6-160e_kitti-3d-car')\n",
    "# inferencer = LidarDet3DInferencer('pointpillars_donaset_container-car')\n",
    "# inferencer = LidarDet3DInferencer('pointpillars_kittilidar-car') \n",
    "inferencer = LidarDet3DInferencer(\"pointpillars_hv_secfpn_8xb6-160e_lidar_vegas_iris-3d-car\",scope=\"mmdet3d\")"
   ]
  },
  {
   "cell_type": "markdown",
   "metadata": {},
   "source": [
    "# Prediction Tests"
   ]
  },
  {
   "cell_type": "code",
   "execution_count": 3,
   "metadata": {},
   "outputs": [
    {
     "name": "stdout",
     "output_type": "stream",
     "text": [
      "Copied '000298.bin' to '../data/Dataset_Lidar_20240111_vegas_ontrack_01/validation'.\n",
      "Copied '000091.bin' to '../data/Dataset_Lidar_20240111_vegas_ontrack_01/validation'.\n",
      "Copied '000071.bin' to '../data/Dataset_Lidar_20240111_vegas_ontrack_01/validation'.\n",
      "Copied '000290.bin' to '../data/Dataset_Lidar_20240111_vegas_ontrack_01/validation'.\n",
      "Copied '000330.bin' to '../data/Dataset_Lidar_20240111_vegas_ontrack_01/validation'.\n",
      "Copied '000075.bin' to '../data/Dataset_Lidar_20240111_vegas_ontrack_01/validation'.\n",
      "Copied '000239.bin' to '../data/Dataset_Lidar_20240111_vegas_ontrack_01/validation'.\n",
      "Copied '000321.bin' to '../data/Dataset_Lidar_20240111_vegas_ontrack_01/validation'.\n",
      "Copied '000094.bin' to '../data/Dataset_Lidar_20240111_vegas_ontrack_01/validation'.\n",
      "Copied '000229.bin' to '../data/Dataset_Lidar_20240111_vegas_ontrack_01/validation'.\n",
      "Copied '000299.bin' to '../data/Dataset_Lidar_20240111_vegas_ontrack_01/validation'.\n",
      "Copied '000029.bin' to '../data/Dataset_Lidar_20240111_vegas_ontrack_01/validation'.\n",
      "Copied '000057.bin' to '../data/Dataset_Lidar_20240111_vegas_ontrack_01/validation'.\n",
      "Copied '000126.bin' to '../data/Dataset_Lidar_20240111_vegas_ontrack_01/validation'.\n",
      "Copied '000108.bin' to '../data/Dataset_Lidar_20240111_vegas_ontrack_01/validation'.\n",
      "Copied '000005.bin' to '../data/Dataset_Lidar_20240111_vegas_ontrack_01/validation'.\n",
      "Copied '000237.bin' to '../data/Dataset_Lidar_20240111_vegas_ontrack_01/validation'.\n",
      "Copied '000032.bin' to '../data/Dataset_Lidar_20240111_vegas_ontrack_01/validation'.\n",
      "Copied '000129.bin' to '../data/Dataset_Lidar_20240111_vegas_ontrack_01/validation'.\n",
      "Copied '000205.bin' to '../data/Dataset_Lidar_20240111_vegas_ontrack_01/validation'.\n",
      "Copied '000189.bin' to '../data/Dataset_Lidar_20240111_vegas_ontrack_01/validation'.\n",
      "Copied '000067.bin' to '../data/Dataset_Lidar_20240111_vegas_ontrack_01/validation'.\n",
      "Copied '000279.bin' to '../data/Dataset_Lidar_20240111_vegas_ontrack_01/validation'.\n",
      "Copied '000256.bin' to '../data/Dataset_Lidar_20240111_vegas_ontrack_01/validation'.\n",
      "Copied '000269.bin' to '../data/Dataset_Lidar_20240111_vegas_ontrack_01/validation'.\n",
      "Copied '000048.bin' to '../data/Dataset_Lidar_20240111_vegas_ontrack_01/validation'.\n",
      "Copied '000063.bin' to '../data/Dataset_Lidar_20240111_vegas_ontrack_01/validation'.\n",
      "Copied '000243.bin' to '../data/Dataset_Lidar_20240111_vegas_ontrack_01/validation'.\n",
      "Copied '000115.bin' to '../data/Dataset_Lidar_20240111_vegas_ontrack_01/validation'.\n",
      "Copied '000271.bin' to '../data/Dataset_Lidar_20240111_vegas_ontrack_01/validation'.\n",
      "Copied '000194.bin' to '../data/Dataset_Lidar_20240111_vegas_ontrack_01/validation'.\n",
      "Copied '000052.bin' to '../data/Dataset_Lidar_20240111_vegas_ontrack_01/validation'.\n",
      "Copied '000082.bin' to '../data/Dataset_Lidar_20240111_vegas_ontrack_01/validation'.\n",
      "Copied '000061.bin' to '../data/Dataset_Lidar_20240111_vegas_ontrack_01/validation'.\n",
      "Copied '000301.bin' to '../data/Dataset_Lidar_20240111_vegas_ontrack_01/validation'.\n"
     ]
    }
   ],
   "source": [
    "import os\n",
    "\n",
    "def copy_bin_files(source_txt, bin_folder_path,destination_folder):\n",
    "  \"\"\"\n",
    "  Reads a list of .bin files from a text file, copies them to a separate folder,\n",
    "  and handles potential errors.\n",
    "\n",
    "  Args:\n",
    "      source_txt (str): Path to the text file containing the list of .bin files.\n",
    "      destination_folder (str): Path to the destination folder where the files will be copied.\n",
    "  \"\"\"\n",
    "\n",
    "  # Check if source text file exists\n",
    "  if not os.path.exists(source_txt):\n",
    "    print(f\"Error: Source text file '{source_txt}' does not exist.\")\n",
    "    return\n",
    "\n",
    "  # Check if destination folder exists, create it if not\n",
    "  if not os.path.exists(destination_folder):\n",
    "    try:\n",
    "      os.makedirs(destination_folder)\n",
    "      print(f\"Destination folder '{destination_folder}' created.\")\n",
    "    except OSError as e:\n",
    "      print(f\"Error creating destination folder: {e}\")\n",
    "      return\n",
    "\n",
    "  # Open the source text file\n",
    "  try:\n",
    "    with open(source_txt, 'r') as file:\n",
    "      lines = file.readlines()\n",
    "  except OSError as e:\n",
    "    print(f\"Error opening source text file: {e}\")\n",
    "    return\n",
    "\n",
    "  # Process each line in the text file\n",
    "  for line in lines:\n",
    "    # Remove leading/trailing whitespace and newline character\n",
    "    filename = line.strip() +\".bin\"\n",
    "\n",
    "    # Check if the filename ends with .bin\n",
    "    if not filename.endswith('.bin'):\n",
    "      print(f\"Warning: Skipping non-binary file '{filename}'.\")\n",
    "      continue\n",
    "\n",
    "    # Construct source and destination paths\n",
    "    source_path = os.path.join(bin_folder_path, filename)\n",
    "    dest_path = os.path.join(destination_folder, filename)\n",
    "\n",
    "    # Check if source file exists\n",
    "    if not os.path.exists(source_path):\n",
    "      print(f\"Warning: Source file '{source_path}' does not exist. Skipping...\")\n",
    "      continue\n",
    "\n",
    "    # Copy the file\n",
    "    try:\n",
    "      with open(source_path, 'rb') as source, open(dest_path, 'wb') as destination:\n",
    "        for chunk in iter(lambda: source.read(1024), b''):\n",
    "          destination.write(chunk)\n",
    "      print(f\"Copied '{filename}' to '{destination_folder}'.\")\n",
    "    except OSError as e:\n",
    "      print(f\"Error copying file '{filename}': {e}\")\n",
    "\n",
    "# Example usage\n",
    "source_txt_path = \"../data/Dataset_Lidar_20240111_vegas_ontrack_01/ImageSets/val.txt\"  # Replace with your actual path\n",
    "destination_folder_path = \"../data/Dataset_Lidar_20240111_vegas_ontrack_01/validation\"  # Replace with your actual path\n",
    "bin_folder_path = \"../data/Dataset_Lidar_20240111_vegas_ontrack_01/training/velodyne\"\n",
    "copy_bin_files(source_txt_path, bin_folder_path, destination_folder_path)\n"
   ]
  },
  {
   "cell_type": "code",
   "execution_count": 15,
   "metadata": {
    "pycharm": {
     "is_executing": false
    }
   },
   "outputs": [
    {
     "name": "stdout",
     "output_type": "stream",
     "text": [
      "\u001b[1;33m[Open3D WARNING] [ViewControl] ConvertFromPinholeCameraParameters() failed because window height and width do not match.\u001b[0;m\n",
      "\u001b[1;33m[Open3D WARNING] [ViewControl] ConvertFromPinholeCameraParameters() failed because window height and width do not match.\u001b[0;m\n",
      "\u001b[1;33m[Open3D WARNING] [ViewControl] ConvertFromPinholeCameraParameters() failed because window height and width do not match.\u001b[0;m\n",
      "\u001b[1;33m[Open3D WARNING] [ViewControl] ConvertFromPinholeCameraParameters() failed because window height and width do not match.\u001b[0;m\n",
      "\u001b[1;33m[Open3D WARNING] [ViewControl] ConvertFromPinholeCameraParameters() failed because window height and width do not match.\u001b[0;m\n",
      "\u001b[1;33m[Open3D WARNING] [ViewControl] ConvertFromPinholeCameraParameters() failed because window height and width do not match.\u001b[0;m\n",
      "\u001b[1;33m[Open3D WARNING] invalid color in PaintUniformColor, clipping to [0, 1]\u001b[0;m\n",
      "\u001b[1;33m[Open3D WARNING] [ViewControl] ConvertFromPinholeCameraParameters() failed because window height and width do not match.\u001b[0;m\n",
      "\u001b[1;33m[Open3D WARNING] [ViewControl] ConvertFromPinholeCameraParameters() failed because window height and width do not match.\u001b[0;m\n",
      "\u001b[1;33m[Open3D WARNING] [ViewControl] ConvertFromPinholeCameraParameters() failed because window height and width do not match.\u001b[0;m\n",
      "\u001b[1;33m[Open3D WARNING] [ViewControl] ConvertFromPinholeCameraParameters() failed because window height and width do not match.\u001b[0;m\n",
      "\u001b[1;33m[Open3D WARNING] [ViewControl] ConvertFromPinholeCameraParameters() failed because window height and width do not match.\u001b[0;m\n",
      "\u001b[1;33m[Open3D WARNING] [ViewControl] ConvertFromPinholeCameraParameters() failed because window height and width do not match.\u001b[0;m\n",
      "\u001b[1;33m[Open3D WARNING] [ViewControl] ConvertFromPinholeCameraParameters() failed because window height and width do not match.\u001b[0;m\n",
      "\u001b[1;33m[Open3D WARNING] invalid color in PaintUniformColor, clipping to [0, 1]\u001b[0;m\n",
      "\u001b[1;33m[Open3D WARNING] [ViewControl] ConvertFromPinholeCameraParameters() failed because window height and width do not match.\u001b[0;m\n",
      "\u001b[1;33m[Open3D WARNING] [ViewControl] ConvertFromPinholeCameraParameters() failed because window height and width do not match.\u001b[0;m\n",
      "\u001b[1;33m[Open3D WARNING] invalid color in PaintUniformColor, clipping to [0, 1]\u001b[0;m\n",
      "\u001b[1;33m[Open3D WARNING] [ViewControl] ConvertFromPinholeCameraParameters() failed because window height and width do not match.\u001b[0;m\n",
      "\u001b[1;33m[Open3D WARNING] [ViewControl] ConvertFromPinholeCameraParameters() failed because window height and width do not match.\u001b[0;m\n",
      "\u001b[1;33m[Open3D WARNING] [ViewControl] ConvertFromPinholeCameraParameters() failed because window height and width do not match.\u001b[0;m\n",
      "\u001b[1;33m[Open3D WARNING] [ViewControl] ConvertFromPinholeCameraParameters() failed because window height and width do not match.\u001b[0;m\n",
      "\u001b[1;33m[Open3D WARNING] [ViewControl] ConvertFromPinholeCameraParameters() failed because window height and width do not match.\u001b[0;m\n",
      "\u001b[1;33m[Open3D WARNING] [ViewControl] ConvertFromPinholeCameraParameters() failed because window height and width do not match.\u001b[0;m\n",
      "\u001b[1;33m[Open3D WARNING] [ViewControl] ConvertFromPinholeCameraParameters() failed because window height and width do not match.\u001b[0;m\n",
      "\u001b[1;33m[Open3D WARNING] [ViewControl] ConvertFromPinholeCameraParameters() failed because window height and width do not match.\u001b[0;m\n",
      "\u001b[1;33m[Open3D WARNING] [ViewControl] ConvertFromPinholeCameraParameters() failed because window height and width do not match.\u001b[0;m\n",
      "\u001b[1;33m[Open3D WARNING] [ViewControl] ConvertFromPinholeCameraParameters() failed because window height and width do not match.\u001b[0;m\n",
      "\u001b[1;33m[Open3D WARNING] [ViewControl] ConvertFromPinholeCameraParameters() failed because window height and width do not match.\u001b[0;m\n",
      "\u001b[1;33m[Open3D WARNING] [ViewControl] ConvertFromPinholeCameraParameters() failed because window height and width do not match.\u001b[0;m\n",
      "\u001b[1;33m[Open3D WARNING] GLFW Error: The GLFW library is not initialized\u001b[0;m\n"
     ]
    },
    {
     "ename": "SystemExit",
     "evalue": "0",
     "output_type": "error",
     "traceback": [
      "An exception has occurred, use %tb to see the full traceback.\n",
      "\u001b[0;31mSystemExit\u001b[0m\u001b[0;31m:\u001b[0m 0\n"
     ]
    }
   ],
   "source": [
    "# inference\n",
    "pcl = '../data/Dataset_Lidar_20240111_vegas_ontrack_01/validation'\n",
    "# pcl = './data/falcon/falcon1.bin'\n",
    "\n",
    "inputs = dict(points=pcl)\n",
    "inf_res = inferencer(inputs, show=True,pred_score_thr=0.4, batch_size=4)"
   ]
  },
  {
   "cell_type": "code",
   "execution_count": 9,
   "metadata": {},
   "outputs": [
    {
     "data": {
      "text/plain": [
       "{'predictions': [{'labels_3d': [0, 0, 0, 0, 0, 0, 0, 0],\n",
       "   'scores_3d': [0.8062891960144043,\n",
       "    0.6793107390403748,\n",
       "    0.3997745215892792,\n",
       "    0.38974761962890625,\n",
       "    0.2673940658569336,\n",
       "    0.2191590666770935,\n",
       "    0.21515747904777527,\n",
       "    0.21306708455085754],\n",
       "   'bboxes_3d': [[17.653263092041016,\n",
       "     8.850078582763672,\n",
       "     -1.2027784585952759,\n",
       "     4.044853687286377,\n",
       "     1.624327301979065,\n",
       "     1.6509610414505005,\n",
       "     4.627403259277344],\n",
       "    [16.612812042236328,\n",
       "     14.175690650939941,\n",
       "     -1.578694224357605,\n",
       "     4.175493240356445,\n",
       "     1.5308202505111694,\n",
       "     1.666374683380127,\n",
       "     4.270689487457275],\n",
       "    [11.933428764343262,\n",
       "     7.8263258934021,\n",
       "     -1.523880958557129,\n",
       "     4.062235355377197,\n",
       "     1.620255470275879,\n",
       "     1.625319004058838,\n",
       "     3.858912467956543],\n",
       "    [38.89756393432617,\n",
       "     21.367263793945312,\n",
       "     -1.1178722381591797,\n",
       "     4.346164226531982,\n",
       "     1.6066919565200806,\n",
       "     1.6587601900100708,\n",
       "     1.7145425081253052],\n",
       "    [22.893882751464844,\n",
       "     30.579360961914062,\n",
       "     -1.6539413928985596,\n",
       "     3.9148731231689453,\n",
       "     1.5517915487289429,\n",
       "     1.6938039064407349,\n",
       "     3.274989604949951],\n",
       "    [25.624801635742188,\n",
       "     26.389049530029297,\n",
       "     -1.4224586486816406,\n",
       "     3.824733018875122,\n",
       "     1.4971961975097656,\n",
       "     1.5861161947250366,\n",
       "     2.7169363498687744],\n",
       "    [52.687774658203125,\n",
       "     -0.5001707077026367,\n",
       "     -1.3758556842803955,\n",
       "     4.368335723876953,\n",
       "     1.5812536478042603,\n",
       "     1.6613489389419556,\n",
       "     1.660040020942688],\n",
       "    [62.050045013427734,\n",
       "     -4.547438621520996,\n",
       "     -1.197283148765564,\n",
       "     3.823215961456299,\n",
       "     1.5388368368148804,\n",
       "     1.6548329591751099,\n",
       "     3.1900277137756348]],\n",
       "   'box_type_3d': 'LiDAR'}],\n",
       " 'visualization': []}"
      ]
     },
     "execution_count": 9,
     "metadata": {},
     "output_type": "execute_result"
    }
   ],
   "source": [
    "inf_res"
   ]
  },
  {
   "cell_type": "code",
   "execution_count": 12,
   "metadata": {},
   "outputs": [
    {
     "name": "stdout",
     "output_type": "stream",
     "text": [
      "Time Taken 93.08862686157227 ms\n"
     ]
    }
   ],
   "source": [
    "import time\n",
    "start = time.time()\n",
    "inferencer(inputs, show=False,pred_score_thr=0.3,batch_size=1)\n",
    "end = time.time()\n",
    "print(\"Time Taken {} ms\".format((end-start)*1000))"
   ]
  },
  {
   "cell_type": "code",
   "execution_count": 13,
   "metadata": {},
   "outputs": [],
   "source": [
    "from mmdet3d.datasets.transforms.loading import (LoadAnnotations3D,\n",
    "                                                 LoadPointsFromFile)\n",
    "from mmdet3d.models.data_preprocessors.data_preprocessor import \\\n",
    "    Det3DDataPreprocessor\n",
    "from mmdet3d.datasets.transforms.formating import Pack3DDetInputs\n",
    "import os \n",
    "\n",
    "def prepare_input(inputs,batch_size=1):\n",
    "    model_inputs = {}\n",
    "    model_inputs[\"inputs\"] = {}\n",
    "    model_inputs[\"inputs\"][\"points\"] = []\n",
    "    max = batch_size\n",
    "\n",
    "    files = []\n",
    "    if not os.path.isdir(inputs[\"points\"]):\n",
    "        files.append(inputs[\"points\"])\n",
    "    else:\n",
    "        files = [inputs[\"points\"] + s for s in os.listdir(inputs[\"points\"])]\n",
    "    for i,sample_path in enumerate(files):\n",
    "        inp = {}\n",
    "        inp[\"lidar_points\"] = {}\n",
    "        inp[\"lidar_points\"][\"lidar_path\"] = sample_path\n",
    "\n",
    "\n",
    "        loader = LoadPointsFromFile(coord_type='LIDAR',load_dim=4,use_dim=4)\n",
    "        packer = Pack3DDetInputs(keys=['points'])\n",
    "\n",
    "        voxel_size = [0.16, 0.16, 4]\n",
    "        preprocessor = Det3DDataPreprocessor(\n",
    "            voxel=True,\n",
    "            voxel_layer=dict(\n",
    "                max_num_points=32,  # max_points_per_voxel\n",
    "                point_cloud_range=[0, -39.68, -3, 69.12, 39.68, 1],\n",
    "                voxel_size=voxel_size,\n",
    "                max_voxels=(16000, 40000)))\n",
    "\n",
    "        input = loader(inp)\n",
    "        input = packer(input)\n",
    "        # input[\"inputs\"][\"points\"] = input[\"inputs\"][\"points\"].cuda()\n",
    "        model_inputs[\"inputs\"][\"points\"].append(input[\"inputs\"][\"points\"])\n",
    "        if i == max-1:\n",
    "            print(\"Batch Size!\")\n",
    "            break\n",
    "    prep_input = preprocessor(model_inputs)\n",
    "    prep_input[\"inputs\"][\"voxels\"][\"voxels\"] = prep_input[\"inputs\"][\"voxels\"][\"voxels\"].cuda()\n",
    "    return prep_input"
   ]
  },
  {
   "cell_type": "code",
   "execution_count": 14,
   "metadata": {},
   "outputs": [
    {
     "name": "stdout",
     "output_type": "stream",
     "text": [
      "Batch Size!\n"
     ]
    }
   ],
   "source": [
    "prep_input = prepare_input({\"points\": pcl}, batch_size=1)"
   ]
  },
  {
   "cell_type": "code",
   "execution_count": 15,
   "metadata": {},
   "outputs": [],
   "source": [
    "model = inferencer.model\n"
   ]
  },
  {
   "cell_type": "code",
   "execution_count": 16,
   "metadata": {},
   "outputs": [
    {
     "name": "stdout",
     "output_type": "stream",
     "text": [
      "Batch Size!\n",
      "Time: 65.04678726196289 ms\n",
      "[<InstanceData(\n",
      "\n",
      "    META INFORMATION\n",
      "\n",
      "    DATA FIELDS\n",
      "    labels_3d: tensor([0, 0, 0, 0, 0, 0, 0, 0], device='cuda:0')\n",
      "    scores_3d: tensor([0.8063, 0.6793, 0.3998, 0.3897, 0.2674, 0.2192, 0.2152, 0.2131],\n",
      "               device='cuda:0')\n",
      "    bboxes_3d: LiDARInstance3DBoxes(\n",
      "            tensor([[17.6533,  8.8501, -1.2028,  4.0449,  1.6243,  1.6510,  4.6274],\n",
      "                [16.6128, 14.1757, -1.5787,  4.1755,  1.5308,  1.6664,  4.2707],\n",
      "                [11.9334,  7.8263, -1.5239,  4.0622,  1.6203,  1.6253,  3.8589],\n",
      "                [38.8976, 21.3673, -1.1179,  4.3462,  1.6067,  1.6588,  1.7145],\n",
      "                [22.8939, 30.5794, -1.6539,  3.9149,  1.5518,  1.6938,  3.2750],\n",
      "                [25.6248, 26.3890, -1.4225,  3.8247,  1.4972,  1.5861,  2.7169],\n",
      "                [52.6878, -0.5002, -1.3759,  4.3683,  1.5813,  1.6613,  1.6600],\n",
      "                [62.0500, -4.5474, -1.1973,  3.8232,  1.5388,  1.6548,  3.1900]],\n",
      "               device='cuda:0'))\n",
      ") at 0x7d648d1f0220>]\n"
     ]
    }
   ],
   "source": [
    "import time \n",
    "import torch\n",
    "\n",
    "torch.manual_seed(42)\n",
    "s = time.time()\n",
    "\n",
    "prep_input = prepare_input({\"points\": pcl}, batch_size=1) # Preprocess\n",
    "res = model(prep_input[\"inputs\"],prep_input[\"data_samples\"], mode=\"tensor\") # Forward\n",
    "preds  = model.bbox_head.predict_by_feat(*res) # Postprocess\n",
    "\n",
    "print(\"Time: {} ms\".format((time.time()-s)*1000))\n",
    "print(preds)"
   ]
  },
  {
   "cell_type": "code",
   "execution_count": 17,
   "metadata": {},
   "outputs": [
    {
     "data": {
      "text/plain": [
       "{'predictions': [{'labels_3d': [0, 0, 0, 0, 0, 0, 0, 0],\n",
       "   'scores_3d': [0.8062891960144043,\n",
       "    0.6793107390403748,\n",
       "    0.3997745215892792,\n",
       "    0.38974761962890625,\n",
       "    0.2673940658569336,\n",
       "    0.2191590666770935,\n",
       "    0.21515747904777527,\n",
       "    0.21306708455085754],\n",
       "   'bboxes_3d': [[17.653263092041016,\n",
       "     8.850078582763672,\n",
       "     -1.2027784585952759,\n",
       "     4.044853687286377,\n",
       "     1.624327301979065,\n",
       "     1.6509610414505005,\n",
       "     4.627403259277344],\n",
       "    [16.612812042236328,\n",
       "     14.175690650939941,\n",
       "     -1.578694224357605,\n",
       "     4.175493240356445,\n",
       "     1.5308202505111694,\n",
       "     1.666374683380127,\n",
       "     4.270689487457275],\n",
       "    [11.933428764343262,\n",
       "     7.8263258934021,\n",
       "     -1.523880958557129,\n",
       "     4.062235355377197,\n",
       "     1.620255470275879,\n",
       "     1.625319004058838,\n",
       "     3.858912467956543],\n",
       "    [38.89756393432617,\n",
       "     21.367263793945312,\n",
       "     -1.1178722381591797,\n",
       "     4.346164226531982,\n",
       "     1.6066919565200806,\n",
       "     1.6587601900100708,\n",
       "     1.7145425081253052],\n",
       "    [22.893882751464844,\n",
       "     30.579360961914062,\n",
       "     -1.6539413928985596,\n",
       "     3.9148731231689453,\n",
       "     1.5517915487289429,\n",
       "     1.6938039064407349,\n",
       "     3.274989604949951],\n",
       "    [25.624801635742188,\n",
       "     26.389049530029297,\n",
       "     -1.4224586486816406,\n",
       "     3.824733018875122,\n",
       "     1.4971961975097656,\n",
       "     1.5861161947250366,\n",
       "     2.7169363498687744],\n",
       "    [52.687774658203125,\n",
       "     -0.5001707077026367,\n",
       "     -1.3758556842803955,\n",
       "     4.368335723876953,\n",
       "     1.5812536478042603,\n",
       "     1.6613489389419556,\n",
       "     1.660040020942688],\n",
       "    [62.050045013427734,\n",
       "     -4.547438621520996,\n",
       "     -1.197283148765564,\n",
       "     3.823215961456299,\n",
       "     1.5388368368148804,\n",
       "     1.6548329591751099,\n",
       "     3.1900277137756348]],\n",
       "   'box_type_3d': 'LiDAR'}],\n",
       " 'visualization': []}"
      ]
     },
     "execution_count": 17,
     "metadata": {},
     "output_type": "execute_result"
    }
   ],
   "source": [
    "inf_res = inferencer(inputs, show=False,pred_score_thr=0.3, batch_size=4)\n",
    "inf_res"
   ]
  },
  {
   "cell_type": "markdown",
   "metadata": {},
   "source": [
    "Convert Manually the tensor to predictions"
   ]
  },
  {
   "cell_type": "code",
   "execution_count": 18,
   "metadata": {},
   "outputs": [
    {
     "name": "stderr",
     "output_type": "stream",
     "text": [
      "/home/riccardo/LidarObjDetection2/mmdetection3d/mmdet3d/models/dense_heads/anchor3d_head.py:94: UserWarning: dir_offset and dir_limit_offset will be depressed and be incorporated into box coder in the future\n",
      "  warnings.warn(\n"
     ]
    },
    {
     "data": {
      "text/plain": [
       "[<InstanceData(\n",
       " \n",
       "     META INFORMATION\n",
       " \n",
       "     DATA FIELDS\n",
       "     labels_3d: tensor([0, 0, 0, 0, 0, 0, 0, 0], device='cuda:0')\n",
       "     scores_3d: tensor([0.8063, 0.6793, 0.3998, 0.3897, 0.2674, 0.2192, 0.2152, 0.2131],\n",
       "                device='cuda:0')\n",
       "     bboxes_3d: LiDARInstance3DBoxes(\n",
       "             tensor([[17.6533,  8.8501, -1.2028,  4.0449,  1.6243,  1.6510,  4.6274],\n",
       "                 [16.6128, 14.1757, -1.5787,  4.1755,  1.5308,  1.6664,  4.2707],\n",
       "                 [11.9334,  7.8263, -1.5239,  4.0622,  1.6203,  1.6253,  3.8589],\n",
       "                 [38.8976, 21.3673, -1.1179,  4.3462,  1.6067,  1.6588,  1.7145],\n",
       "                 [22.8939, 30.5794, -1.6539,  3.9149,  1.5518,  1.6938,  3.2750],\n",
       "                 [25.6248, 26.3890, -1.4225,  3.8247,  1.4972,  1.5861,  2.7169],\n",
       "                 [52.6878, -0.5002, -1.3759,  4.3683,  1.5813,  1.6613,  1.6600],\n",
       "                 [62.0500, -4.5474, -1.1973,  3.8232,  1.5388,  1.6548,  3.1900]],\n",
       "                device='cuda:0'))\n",
       " ) at 0x7d648fa82850>]"
      ]
     },
     "execution_count": 18,
     "metadata": {},
     "output_type": "execute_result"
    }
   ],
   "source": [
    "from mmdet3d.models.dense_heads.anchor3d_head import Anchor3DHead\n",
    "\n",
    "# bbox_head=dict(\n",
    "#     type='Anchor3DHead',\n",
    "#     num_classes=3,\n",
    "#     in_channels=384,\n",
    "#     feat_channels=384,\n",
    "#     use_direction_classifier=True,\n",
    "#     assign_per_class=True,\n",
    "#     anchor_generator=dict(\n",
    "#         type='AlignedAnchor3DRangeGenerator',\n",
    "#         ranges=[\n",
    "#             [0, -39.68, -0.6, 69.12, 39.68, -0.6],\n",
    "#             [0, -39.68, -0.6, 69.12, 39.68, -0.6],\n",
    "#             [0, -39.68, -1.78, 69.12, 39.68, -1.78],\n",
    "#         ],\n",
    "#         sizes=[[0.8, 0.6, 1.73], [1.76, 0.6, 1.73], [3.9, 1.6, 1.56]],\n",
    "#         rotations=[0, 1.57],\n",
    "#         reshape_out=False),\n",
    "#     diff_rad_by_sin=True,\n",
    "#     bbox_coder=dict(type='DeltaXYZWLHRBBoxCoder')\n",
    "# )\n",
    "# model.bbox_head\n",
    "head = Anchor3DHead(\n",
    "    num_classes=1,\n",
    "    in_channels=384,\n",
    "    feat_channels=384,\n",
    "    use_direction_classifier=True,\n",
    "    assign_per_class=True,\n",
    "    anchor_generator=dict(\n",
    "                type='AlignedAnchor3DRangeGenerator',\n",
    "                ranges=[[0, -39.68, -1.78, 69.12, 39.68, -1.78]],\n",
    "                sizes=[[3.9, 1.6, 1.56]],\n",
    "                rotations=[0, 1.57],\n",
    "                reshape_out=True),\n",
    "    diff_rad_by_sin=True,\n",
    "    bbox_coder=dict(type='DeltaXYZWLHRBBoxCoder'),\n",
    "    test_cfg=model.test_cfg\n",
    "    )\n",
    "# preds  = head.predict_by_feat(*res)\n",
    "preds  = model.bbox_head.predict_by_feat(*res)\n",
    "preds"
   ]
  },
  {
   "cell_type": "code",
   "execution_count": 19,
   "metadata": {},
   "outputs": [
    {
     "ename": "NameError",
     "evalue": "name 'pred_res' is not defined",
     "output_type": "error",
     "traceback": [
      "\u001b[0;31m---------------------------------------------------------------------------\u001b[0m",
      "\u001b[0;31mNameError\u001b[0m                                 Traceback (most recent call last)",
      "Cell \u001b[0;32mIn[19], line 1\u001b[0m\n\u001b[0;32m----> 1\u001b[0m preds[\u001b[38;5;241m0\u001b[39m][\u001b[38;5;124m\"\u001b[39m\u001b[38;5;124mbboxes_3d\u001b[39m\u001b[38;5;124m\"\u001b[39m],\u001b[43mpred_res\u001b[49m[\u001b[38;5;241m0\u001b[39m][\u001b[38;5;124m\"\u001b[39m\u001b[38;5;124mbboxes_3d\u001b[39m\u001b[38;5;124m\"\u001b[39m],inf_res[\u001b[38;5;124m\"\u001b[39m\u001b[38;5;124mpredictions\u001b[39m\u001b[38;5;124m\"\u001b[39m][\u001b[38;5;241m0\u001b[39m][\u001b[38;5;124m\"\u001b[39m\u001b[38;5;124mbboxes_3d\u001b[39m\u001b[38;5;124m\"\u001b[39m]\n",
      "\u001b[0;31mNameError\u001b[0m: name 'pred_res' is not defined"
     ]
    }
   ],
   "source": [
    "preds[0][\"bboxes_3d\"],pred_res[0][\"bboxes_3d\"],inf_res[\"predictions\"][0][\"bboxes_3d\"]"
   ]
  },
  {
   "cell_type": "markdown",
   "metadata": {},
   "source": [
    "# Model Analysis"
   ]
  },
  {
   "cell_type": "code",
   "execution_count": 3,
   "metadata": {},
   "outputs": [],
   "source": [
    "model = inferencer.model\n",
    "pcl_path = \"../data/DonaSet/training/velodyne/\"\n",
    "model_path = \"end2end.onnx\""
   ]
  },
  {
   "cell_type": "code",
   "execution_count": 4,
   "metadata": {},
   "outputs": [],
   "source": [
    "def prepare_input(inputs,batch_size=1, device=\"cuda\",data_samples=False):\n",
    "    model_inputs = {}\n",
    "    model_inputs[\"inputs\"] = {}\n",
    "    model_inputs[\"inputs\"][\"points\"] = []\n",
    "    if data_samples:\n",
    "        model_inputs[\"data_samples\"] = []\n",
    "    max = batch_size\n",
    "\n",
    "    files = []\n",
    "    if not os.path.isdir(inputs[\"points\"]):\n",
    "        files.append(inputs[\"points\"])\n",
    "    else:\n",
    "        files = [inputs[\"points\"] + s for s in os.listdir(inputs[\"points\"])]\n",
    "    for i,sample_path in enumerate(files):\n",
    "        inp = {}\n",
    "        inp[\"lidar_points\"] = {}\n",
    "        inp[\"lidar_points\"][\"lidar_path\"] = sample_path\n",
    "\n",
    "\n",
    "        loader = LoadPointsFromFile(coord_type='LIDAR',load_dim=4,use_dim=4)\n",
    "        packer = Pack3DDetInputs(keys=['points'])\n",
    "\n",
    "        voxel_size = [0.16, 0.16, 4]\n",
    "        preprocessor = Det3DDataPreprocessor(\n",
    "            voxel=True,\n",
    "            voxel_layer=dict(\n",
    "                max_num_points=32,  # max_points_per_voxel\n",
    "                point_cloud_range=[0, -39.68, -3, 69.12, 39.68, 1],\n",
    "                voxel_size=voxel_size,\n",
    "                max_voxels=(16000, 40000)))\n",
    "\n",
    "        input = loader(inp)\n",
    "        input = packer(input)\n",
    "        # input[\"inputs\"][\"points\"] = input[\"inputs\"][\"points\"].cuda()\n",
    "        model_inputs[\"inputs\"][\"points\"].append(input[\"inputs\"][\"points\"])\n",
    "        if data_samples:\n",
    "            model_inputs[\"data_samples\"].append(input[\"data_samples\"])\n",
    "        if i == max-1:\n",
    "            print(\"Batch Size!\")\n",
    "            break\n",
    "    prep_input = preprocessor(model_inputs)\n",
    "    if device == \"cuda\":\n",
    "        prep_input[\"inputs\"][\"voxels\"][\"voxels\"] = prep_input[\"inputs\"][\"voxels\"][\"voxels\"].cuda()\n",
    "    return prep_input"
   ]
  },
  {
   "cell_type": "markdown",
   "metadata": {},
   "source": [
    "### Random"
   ]
  },
  {
   "cell_type": "code",
   "execution_count": 76,
   "metadata": {},
   "outputs": [
    {
     "name": "stdout",
     "output_type": "stream",
     "text": [
      "Batch Size!\n",
      "Preprocessing took 1.7364025115966797 ms\n",
      "Voxel Encoder took 2.6345252990722656 ms\n",
      "Middle Encoder/Imagify took 7.281780242919922 ms\n",
      "Backbone + FPN took 2.638101577758789 ms\n",
      "Bbox Head forward took 0.23508071899414062 ms\n",
      "\n",
      "Time: 17.702102661132812 ms\n"
     ]
    }
   ],
   "source": [
    "import torch\n",
    "import os\n",
    "import time\n",
    "from mmdet3d.datasets.transforms.loading import (LoadAnnotations3D,\n",
    "                                                LoadPointsFromFile)\n",
    "from mmdet3d.models.data_preprocessors.data_preprocessor import \\\n",
    "    Det3DDataPreprocessor\n",
    "from mmdet3d.datasets.transforms.formating import Pack3DDetInputs\n",
    "\n",
    "pcl_path = \"../data/DonaSet/training/velodyne/\"\n",
    "s = time.time()\n",
    "\n",
    "inputs = prepare_input({\"points\": pcl_path}, batch_size=1)[\"inputs\"]\n",
    "# Evaluate on validation data\n",
    "model.eval()\n",
    "with torch.no_grad():\n",
    "    val_output = model(inputs,mode=\"tensor\")\n",
    "    print(\"Time: {} ms\".format((time.time()-s)*1000))\n"
   ]
  },
  {
   "cell_type": "code",
   "execution_count": 9,
   "metadata": {},
   "outputs": [
    {
     "name": "stdout",
     "output_type": "stream",
     "text": [
      "ONNX Model Operator Set Version: 11\n"
     ]
    }
   ],
   "source": [
    "import onnx\n",
    "\n",
    "onnx_model_path = \"end2end.onnx\"\n",
    "m = onnx.load(onnx_model_path)\n",
    "opset_version = m.opset_import[0].version if m.opset_import else None\n",
    "\n",
    "print(\"ONNX Model Operator Set Version:\", opset_version)"
   ]
  },
  {
   "cell_type": "code",
   "execution_count": 10,
   "metadata": {},
   "outputs": [
    {
     "name": "stdout",
     "output_type": "stream",
     "text": [
      "ONNX Runtime Version: 1.15.1\n",
      "GPU\n"
     ]
    }
   ],
   "source": [
    "import onnxruntime\n",
    "\n",
    "ort_version = onnxruntime.__version__\n",
    "print(\"ONNX Runtime Version:\", ort_version)\n",
    "\n",
    "print( onnxruntime.get_device()  )"
   ]
  },
  {
   "cell_type": "code",
   "execution_count": 80,
   "metadata": {},
   "outputs": [
    {
     "name": "stderr",
     "output_type": "stream",
     "text": [
      "2024-02-22 12:29:06.650643080 [W:onnxruntime:Default, tensorrt_execution_provider.h:75 log] [2024-02-22 12:29:06 WARNING] onnx2trt_utils.cpp:374: Your ONNX model has been generated with INT64 weights, while TensorRT does not natively support INT64. Attempting to cast down to INT32.\n",
      "2024-02-22 12:29:06.650668472 [W:onnxruntime:Default, tensorrt_execution_provider.h:75 log] [2024-02-22 12:29:06 WARNING] onnx2trt_utils.cpp:400: One or more weights outside the range of INT32 was clamped\n",
      "2024-02-22 12:29:06.729307543 [W:onnxruntime:Default, tensorrt_execution_provider.h:75 log] [2024-02-22 12:29:06 WARNING] onnx2trt_utils.cpp:374: Your ONNX model has been generated with INT64 weights, while TensorRT does not natively support INT64. Attempting to cast down to INT32.\n",
      "2024-02-22 12:29:06.729332463 [W:onnxruntime:Default, tensorrt_execution_provider.h:75 log] [2024-02-22 12:29:06 WARNING] onnx2trt_utils.cpp:400: One or more weights outside the range of INT32 was clamped\n"
     ]
    }
   ],
   "source": [
    "\n",
    "import onnx\n",
    "import onnxruntime as ort\n",
    "import numpy as np\n",
    "\n",
    "model_path = 'end2end.onnx'\n",
    "onnx_model = onnx.load(model_path)\n",
    "onnx.checker.check_model(onnx_model)\n",
    "\n",
    "ort_sess = ort.InferenceSession(model_path,providers=['TensorrtExecutionProvider', 'CUDAExecutionProvider', 'CPUExecutionProvider'])\n"
   ]
  },
  {
   "cell_type": "code",
   "execution_count": 81,
   "metadata": {},
   "outputs": [
    {
     "name": "stdout",
     "output_type": "stream",
     "text": [
      "Batch Size!\n",
      "Preprocessing took 2.275705337524414 ms\n",
      "Preprocessing took: 4.957437515258789 ms\n",
      "Cpu conv took: 1.6481876373291016 ms\n",
      "Inference took: 18684.181928634644 ms\n",
      "Postprocessing took: 3.123760223388672 ms\n",
      "Total: 18693.91131401062 ms\n"
     ]
    }
   ],
   "source": [
    "s0 = time.time()\n",
    "inputs = prepare_input({\"points\": pcl_path}, batch_size=1)[\"inputs\"]\n",
    "s05 = time.time()\n",
    "onnx_inputs = {'voxels': inputs[\"voxels\"][\"voxels\"].cpu().numpy(), 'coors':inputs[\"voxels\"][\"coors\"].cpu().numpy(),'num_points':inputs[\"voxels\"][\"num_points\"].cpu().numpy()}\n",
    "s1 = time.time()\n",
    "outputs = ort_sess.run(None, onnx_inputs)\n",
    "s2 = time.time()\n",
    "preds  = model.bbox_head.predict_by_feat(*outputs)\n",
    "s3 = time.time()\n",
    "\n",
    "print(\"Preprocessing took: {} ms\".format((s05-s0)*1000))\n",
    "print(\"Cpu conv took: {} ms\".format((s1-s05)*1000))\n",
    "print(\"Inference took: {} ms\".format((s2-s1)*1000))\n",
    "print(\"Postprocessing took: {} ms\".format((s3-s2)*1000))\n",
    "print(\"Total: {} ms\".format((s3-s0)*1000))"
   ]
  },
  {
   "cell_type": "code",
   "execution_count": 82,
   "metadata": {},
   "outputs": [
    {
     "name": "stdout",
     "output_type": "stream",
     "text": [
      "Batch Size!\n",
      "Preprocessing took 2.525806427001953 ms\n"
     ]
    }
   ],
   "source": [
    "inputs = prepare_input({\"points\": pcl_path}, batch_size=1)[\"inputs\"]\n",
    "s05 = time.time()\n",
    "onnx_inputs = {'voxels': inputs[\"voxels\"][\"voxels\"].cpu().numpy(), 'coors':inputs[\"voxels\"][\"coors\"].cpu().numpy(),'num_points':inputs[\"voxels\"][\"num_points\"].cpu().numpy()}\n",
    "s1 = time.time()\n"
   ]
  },
  {
   "cell_type": "markdown",
   "metadata": {},
   "source": [
    "## Inference time comparison"
   ]
  },
  {
   "cell_type": "markdown",
   "metadata": {},
   "source": [
    "### Pytorch CPU"
   ]
  },
  {
   "cell_type": "code",
   "execution_count": 7,
   "metadata": {},
   "outputs": [
    {
     "name": "stdout",
     "output_type": "stream",
     "text": [
      "Batch Size!\n",
      "Inf: 289.40629959106445 ms\n",
      "Post: 5.438566207885742 ms\n",
      "Total: 294.905424118042 ms\n"
     ]
    }
   ],
   "source": [
    "model.cpu()\n",
    "inputs = prepare_input({\"points\": pcl_path}, batch_size=1, device = \"cpu\")[\"inputs\"]\n",
    "\n",
    "s1 = time.time()\n",
    "val_output = model(inputs,mode=\"tensor\")\n",
    "s2 = time.time()\n",
    "preds  = model.bbox_head.predict_by_feat(*val_output)\n",
    "\n",
    "print(\"Inf: {} ms\".format((s2-s1)*1000))\n",
    "print(\"Post: {} ms\".format((time.time()-s2)*1000))\n",
    "print(\"Total: {} ms\".format((time.time()-s1)*1000))"
   ]
  },
  {
   "cell_type": "markdown",
   "metadata": {},
   "source": [
    "### Pytorch GPU"
   ]
  },
  {
   "cell_type": "code",
   "execution_count": 9,
   "metadata": {},
   "outputs": [
    {
     "name": "stdout",
     "output_type": "stream",
     "text": [
      "Batch Size!\n",
      "Inf: 11.049270629882812 ms\n",
      "Post: 33.72335433959961 ms\n",
      "Total: 44.79646682739258 ms\n"
     ]
    }
   ],
   "source": [
    "model.cuda()\n",
    "inputs = prepare_input({\"points\": pcl_path}, batch_size=1)[\"inputs\"]\n",
    "\n",
    "s1 = time.time()\n",
    "val_output = model(inputs,mode=\"tensor\")\n",
    "s2 = time.time()\n",
    "preds  = model.bbox_head.predict_by_feat(*val_output)\n",
    "print(\"Inf: {} ms\".format((s2-s1)*1000))\n",
    "print(\"Post: {} ms\".format((time.time()-s2)*1000))\n",
    "print(\"Total: {} ms\".format((time.time()-s1)*1000))"
   ]
  },
  {
   "cell_type": "markdown",
   "metadata": {},
   "source": [
    "### TensorRT Provider (ONNX Runtime)"
   ]
  },
  {
   "cell_type": "code",
   "execution_count": 11,
   "metadata": {},
   "outputs": [
    {
     "name": "stderr",
     "output_type": "stream",
     "text": [
      "2024-02-22 15:07:18.276197313 [W:onnxruntime:Default, tensorrt_execution_provider.h:75 log] [2024-02-22 15:07:18 WARNING] onnx2trt_utils.cpp:374: Your ONNX model has been generated with INT64 weights, while TensorRT does not natively support INT64. Attempting to cast down to INT32.\n",
      "2024-02-22 15:07:18.276223960 [W:onnxruntime:Default, tensorrt_execution_provider.h:75 log] [2024-02-22 15:07:18 WARNING] onnx2trt_utils.cpp:400: One or more weights outside the range of INT32 was clamped\n",
      "2024-02-22 15:07:18.357865854 [W:onnxruntime:Default, tensorrt_execution_provider.h:75 log] [2024-02-22 15:07:18 WARNING] onnx2trt_utils.cpp:374: Your ONNX model has been generated with INT64 weights, while TensorRT does not natively support INT64. Attempting to cast down to INT32.\n",
      "2024-02-22 15:07:18.357891501 [W:onnxruntime:Default, tensorrt_execution_provider.h:75 log] [2024-02-22 15:07:18 WARNING] onnx2trt_utils.cpp:400: One or more weights outside the range of INT32 was clamped\n"
     ]
    }
   ],
   "source": [
    "ort_sess = ort.InferenceSession(model_path,providers=['TensorrtExecutionProvider', 'CUDAExecutionProvider', 'CPUExecutionProvider'])"
   ]
  },
  {
   "cell_type": "code",
   "execution_count": 15,
   "metadata": {},
   "outputs": [
    {
     "name": "stdout",
     "output_type": "stream",
     "text": [
      "Batch Size!\n",
      "Inf: 23.366451263427734 ms\n",
      "Post: 4.77290153503418 ms\n",
      "Total: 28.179168701171875 ms\n"
     ]
    }
   ],
   "source": [
    "inputs = prepare_input({\"points\": pcl_path}, batch_size=1)[\"inputs\"]\n",
    "onnx_inputs = {'voxels': inputs[\"voxels\"][\"voxels\"].cpu().numpy(), 'coors':inputs[\"voxels\"][\"coors\"].cpu().numpy(),'num_points':inputs[\"voxels\"][\"num_points\"].cpu().numpy()}\n",
    "\n",
    "s1 = time.time()\n",
    "outputs = ort_sess.run(None, onnx_inputs)\n",
    "s2 = time.time()\n",
    "preds  = model.bbox_head.predict_by_feat(*outputs)\n",
    "print(\"Inf: {} ms\".format((s2-s1)*1000))\n",
    "print(\"Post: {} ms\".format((time.time()-s2)*1000))\n",
    "print(\"Total: {} ms\".format((time.time()-s1)*1000))\n"
   ]
  },
  {
   "cell_type": "markdown",
   "metadata": {},
   "source": [
    "### CUDA Provider  (ONNX Runtime)"
   ]
  },
  {
   "cell_type": "code",
   "execution_count": 16,
   "metadata": {},
   "outputs": [],
   "source": [
    "ort_sess = ort.InferenceSession(model_path,providers=['CUDAExecutionProvider', 'CPUExecutionProvider'])"
   ]
  },
  {
   "cell_type": "code",
   "execution_count": 20,
   "metadata": {},
   "outputs": [
    {
     "name": "stdout",
     "output_type": "stream",
     "text": [
      "Batch Size!\n",
      "Inf: 36.96608543395996 ms\n",
      "Post: 6.192684173583984 ms\n",
      "Total: 43.22385787963867 ms\n"
     ]
    }
   ],
   "source": [
    "inputs = prepare_input({\"points\": pcl_path}, batch_size=1)[\"inputs\"]\n",
    "onnx_inputs = {'voxels': inputs[\"voxels\"][\"voxels\"].cpu().numpy(), 'coors':inputs[\"voxels\"][\"coors\"].cpu().numpy(),'num_points':inputs[\"voxels\"][\"num_points\"].cpu().numpy()}\n",
    "\n",
    "s1 = time.time()\n",
    "outputs = ort_sess.run(None, onnx_inputs)\n",
    "s2 = time.time()\n",
    "preds  = model.bbox_head.predict_by_feat(*outputs)\n",
    "print(\"Inf: {} ms\".format((s2-s1)*1000))\n",
    "print(\"Post: {} ms\".format((time.time()-s2)*1000))\n",
    "print(\"Total: {} ms\".format((time.time()-s1)*1000))"
   ]
  },
  {
   "cell_type": "markdown",
   "metadata": {},
   "source": [
    "### CPU Provider  (ONNX Runtime)"
   ]
  },
  {
   "cell_type": "code",
   "execution_count": 21,
   "metadata": {},
   "outputs": [],
   "source": [
    "ort_sess = ort.InferenceSession(model_path,providers=[ 'CPUExecutionProvider'])"
   ]
  },
  {
   "cell_type": "code",
   "execution_count": 25,
   "metadata": {},
   "outputs": [
    {
     "name": "stdout",
     "output_type": "stream",
     "text": [
      "Batch Size!\n",
      "Inf: 194.2272186279297 ms\n",
      "Post: 48.16293716430664 ms\n",
      "Total: 242.44952201843262 ms\n"
     ]
    }
   ],
   "source": [
    "inputs = prepare_input({\"points\": pcl_path}, batch_size=1)[\"inputs\"]\n",
    "onnx_inputs = {'voxels': inputs[\"voxels\"][\"voxels\"].cpu().numpy(), 'coors':inputs[\"voxels\"][\"coors\"].cpu().numpy(),'num_points':inputs[\"voxels\"][\"num_points\"].cpu().numpy()}\n",
    "\n",
    "s1 = time.time()\n",
    "outputs = ort_sess.run(None, onnx_inputs)\n",
    "s2 = time.time()\n",
    "preds  = model.bbox_head.predict_by_feat(*outputs)\n",
    "print(\"Inf: {} ms\".format((s2-s1)*1000))\n",
    "print(\"Post: {} ms\".format((time.time()-s2)*1000))\n",
    "print(\"Total: {} ms\".format((time.time()-s1)*1000))"
   ]
  },
  {
   "cell_type": "markdown",
   "metadata": {},
   "source": [
    "###  TensorRT"
   ]
  },
  {
   "cell_type": "code",
   "execution_count": 26,
   "metadata": {},
   "outputs": [
    {
     "name": "stdout",
     "output_type": "stream",
     "text": [
      "02/22 15:10:34 - mmengine - \u001b[5m\u001b[4m\u001b[33mWARNING\u001b[0m - Failed to search registry with scope \"mmdet3d\" in the \"Codebases\" registry tree. As a workaround, the current \"Codebases\" registry in \"mmdeploy\" is used to build instance. This may cause unexpected failure when running the built modules. Please check whether \"mmdet3d\" is a correct scope, or whether the registry is initialized.\n",
      "02/22 15:10:34 - mmengine - \u001b[5m\u001b[4m\u001b[33mWARNING\u001b[0m - Failed to search registry with scope \"mmdet3d\" in the \"mmdet3d_tasks\" registry tree. As a workaround, the current \"mmdet3d_tasks\" registry in \"mmdeploy\" is used to build instance. This may cause unexpected failure when running the built modules. Please check whether \"mmdet3d\" is a correct scope, or whether the registry is initialized.\n",
      "02/22 15:10:34 - mmengine - \u001b[5m\u001b[4m\u001b[33mWARNING\u001b[0m - Failed to search registry with scope \"mmdet3d\" in the \"backend_voxel_detectors\" registry tree. As a workaround, the current \"backend_voxel_detectors\" registry in \"mmdeploy\" is used to build instance. This may cause unexpected failure when running the built modules. Please check whether \"mmdet3d\" is a correct scope, or whether the registry is initialized.\n",
      "02/22 15:10:34 - mmengine - \u001b[4m\u001b[97mINFO\u001b[0m - Successfully loaded tensorrt plugins from /root/workspace/mmdeploy/mmdeploy/lib/libmmdeploy_tensorrt_ops.so\n",
      "02/22 15:10:34 - mmengine - \u001b[4m\u001b[97mINFO\u001b[0m - Successfully loaded tensorrt plugins from /root/workspace/mmdeploy/mmdeploy/lib/libmmdeploy_tensorrt_ops.so\n"
     ]
    },
    {
     "name": "stderr",
     "output_type": "stream",
     "text": [
      "/root/workspace/LidarObjDetection/mmdetection3d_dona/mmdetection3d/mmdet3d/evaluation/functional/kitti_utils/eval.py:10: NumbaDeprecationWarning: \u001b[1mThe 'nopython' keyword argument was not supplied to the 'numba.jit' decorator. The implicit default value for this argument is currently False, but it will be changed to True in Numba 0.59.0. See https://numba.readthedocs.io/en/stable/reference/deprecation.html#deprecation-of-object-mode-fall-back-behaviour-when-using-jit for details.\u001b[0m\n",
      "  def get_thresholds(scores: np.ndarray, num_gt, num_sample_pts=41):\n"
     ]
    }
   ],
   "source": [
    "from mmdeploy.apis.inference import inference_model\n",
    "from mmdeploy.apis.inference import get_model\n",
    "\n",
    "model_cfg = \"../configs/pointpillars/pointpillars_hv_secfpn_8xb6-160e_donaset-3d-car.py\"\n",
    "deploy_cfg = \"/root/workspace/mmdeploy/configs/mmdet3d/voxel-detection/voxel-detection_tensorrt_dynamic-kitti-32x4.py\"\n",
    "backend_files = \"end2end.engine\"\n",
    "img = \"../data/DonaSet/training/velodyne/000000.bin\"\n",
    "device = \"cuda\"\n",
    "\n",
    "tensorrt_model = get_model(model_cfg,deploy_cfg,[backend_files],img,device)"
   ]
  },
  {
   "cell_type": "code",
   "execution_count": 31,
   "metadata": {},
   "outputs": [
    {
     "name": "stdout",
     "output_type": "stream",
     "text": [
      "Batch Size!\n",
      "Inf: 1.4345645904541016 ms\n",
      "Post: 25.153398513793945 ms\n",
      "Total: 26.613950729370117 ms\n"
     ]
    }
   ],
   "source": [
    "inputs = prepare_input({\"points\": pcl_path}, batch_size=1,data_samples=False)[\"inputs\"]\n",
    "\n",
    "s1=time.time()\n",
    "res = tensorrt_model(inputs, mode=\"tensor\")\n",
    "s2 =time.time()\n",
    "preds  = model.bbox_head.predict_by_feat(res[\"cls_score\"],res[\"bbox_pred\"],res[\"dir_cls_pred\"])\n",
    "print(\"Inf: {} ms\".format((s2-s1)*1000))\n",
    "print(\"Post: {} ms\".format((time.time()-s2)*1000))\n",
    "print(\"Total: {} ms\".format((time.time()-s1)*1000))"
   ]
  }
 ],
 "metadata": {
  "interpreter": {
   "hash": "a0c343fece975dd89087e8c2194dd4d3db28d7000f1b32ed9ed9d584dd54dbbe"
  },
  "kernelspec": {
   "display_name": "Python 3 (ipykernel)",
   "language": "python",
   "name": "python3"
  },
  "language_info": {
   "codemirror_mode": {
    "name": "ipython",
    "version": 3
   },
   "file_extension": ".py",
   "mimetype": "text/x-python",
   "name": "python",
   "nbconvert_exporter": "python",
   "pygments_lexer": "ipython3",
   "version": "3.8.10"
  },
  "pycharm": {
   "stem_cell": {
    "cell_type": "raw",
    "metadata": {
     "collapsed": false
    },
    "source": []
   }
  }
 },
 "nbformat": 4,
 "nbformat_minor": 4
}

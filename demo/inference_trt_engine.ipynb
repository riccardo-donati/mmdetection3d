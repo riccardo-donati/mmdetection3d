{
 "cells": [
  {
   "cell_type": "code",
   "execution_count": 33,
   "metadata": {},
   "outputs": [],
   "source": [
    "import tensorrt as trt\n",
    "import numpy as np\n",
    "import pycuda.driver as cuda\n",
    "import pycuda.autoinit\n",
    "\n",
    "def load_engine(engine_file_path):\n",
    "    TRT_LOGGER = trt.Logger(trt.Logger.WARNING)\n",
    "    with open(engine_file_path, 'rb') as f:\n",
    "        runtime = trt.Runtime(TRT_LOGGER)\n",
    "        engine = runtime.deserialize_cuda_engine(f.read())\n",
    "    return engine\n",
    "\n",
    "def allocate_buffers(engine):\n",
    "    # Allocate pagelocked host memory for inputs and outputs\n",
    "    h_inputs = [cuda.pagelocked_empty(trt.volume(engine.get_binding_shape(i)), dtype=np.float32) for i in range(3)]\n",
    "    h_outputs = [cuda.pagelocked_empty(trt.volume(engine.get_binding_shape(i + 3)), dtype=np.float32) for i in range(3)]\n",
    "\n",
    "    # Allocate device memory for inputs and outputs\n",
    "    d_inputs = [cuda.mem_alloc(h.nbytes) for h in h_inputs]\n",
    "    d_outputs = [cuda.mem_alloc(h.nbytes) for h in h_outputs]\n",
    "\n",
    "    # Create a CUDA stream for asynchronous execution\n",
    "    stream = cuda.Stream()\n",
    "\n",
    "    return h_inputs, h_outputs, d_inputs, d_outputs, stream\n",
    "\n",
    "def do_inference(context, h_input, h_output, d_input, d_output, stream, batch_size=1):\n",
    "    cuda.memcpy_htod_async(d_input, h_input, stream)\n",
    "    context.execute_async(batch_size=batch_size, bindings=[int(d_input), int(d_output)], stream_handle=stream.handle)\n",
    "    cuda.memcpy_dtoh_async(h_output, d_output, stream)\n",
    "    stream.synchronize()\n",
    "    return h_output\n",
    "\n",
    "def main(engine_file_path, input_data):\n",
    "    # Load engine\n",
    "    engine = load_engine(engine_file_path)\n",
    "    \n",
    "    # Allocate buffers\n",
    "    h_input, h_output, d_input, d_output, stream = allocate_buffers(engine)\n",
    "    \n",
    "    # Create context\n",
    "    context = engine.create_execution_context()\n",
    "    \n",
    "    # Prepare input data\n",
    "    np.copyto(h_input, input_data.ravel())\n",
    "    \n",
    "    # Perform inference\n",
    "    output = do_inference(context, h_input, h_output, d_input, d_output, stream)\n",
    "    \n",
    "    print(\"Inference output:\", output)\n",
    "\n",
    "\n"
   ]
  },
  {
   "cell_type": "code",
   "execution_count": 38,
   "metadata": {},
   "outputs": [],
   "source": [
    "h_input = cuda.pagelocked_empty(trt.volume((16000,32,4)), dtype=np.float32)"
   ]
  },
  {
   "cell_type": "code",
   "execution_count": 87,
   "metadata": {},
   "outputs": [
    {
     "data": {
      "text/plain": [
       "<pycuda._driver.DeviceAllocation at 0x758aaafa6020>"
      ]
     },
     "execution_count": 87,
     "metadata": {},
     "output_type": "execute_result"
    }
   ],
   "source": [
    "cuda.mem_alloc(h_input.nbytes)"
   ]
  },
  {
   "cell_type": "code",
   "execution_count": 36,
   "metadata": {},
   "outputs": [
    {
     "name": "stderr",
     "output_type": "stream",
     "text": [
      "/tmp/ipykernel_68632/1962977237.py:1: DeprecationWarning: Use get_tensor_shape instead.\n",
      "  engine.get_binding_shape(0)\n"
     ]
    },
    {
     "data": {
      "text/plain": [
       "(-1, 32, 4)"
      ]
     },
     "execution_count": 36,
     "metadata": {},
     "output_type": "execute_result"
    }
   ],
   "source": [
    "engine.get_binding_shape(0)"
   ]
  },
  {
   "cell_type": "code",
   "execution_count": 34,
   "metadata": {},
   "outputs": [
    {
     "name": "stderr",
     "output_type": "stream",
     "text": [
      "/tmp/ipykernel_68632/3822657097.py:4: DeprecationWarning: Use get_tensor_name instead.\n",
      "  engine.get_binding_shape(engine.get_binding_index(\"voxels\"))\n",
      "/tmp/ipykernel_68632/3822657097.py:4: DeprecationWarning: Use get_tensor_shape instead.\n",
      "  engine.get_binding_shape(engine.get_binding_index(\"voxels\"))\n",
      "/tmp/ipykernel_68632/3822657097.py:5: DeprecationWarning: Use get_tensor_name instead.\n",
      "  engine.get_binding_shape(engine.get_binding_index(\"num_points\"))\n",
      "/tmp/ipykernel_68632/3822657097.py:5: DeprecationWarning: Use get_tensor_shape instead.\n",
      "  engine.get_binding_shape(engine.get_binding_index(\"num_points\"))\n",
      "/tmp/ipykernel_68632/3822657097.py:6: DeprecationWarning: Use get_tensor_name instead.\n",
      "  engine.get_binding_shape(engine.get_binding_index(\"coors\"))\n",
      "/tmp/ipykernel_68632/3822657097.py:6: DeprecationWarning: Use get_tensor_shape instead.\n",
      "  engine.get_binding_shape(engine.get_binding_index(\"coors\"))\n",
      "/tmp/ipykernel_68632/3822657097.py:9: DeprecationWarning: Use get_tensor_name instead.\n",
      "  engine.get_binding_shape(engine.get_binding_index(\"cls_score0\"))\n",
      "/tmp/ipykernel_68632/3822657097.py:9: DeprecationWarning: Use get_tensor_shape instead.\n",
      "  engine.get_binding_shape(engine.get_binding_index(\"cls_score0\"))\n",
      "/tmp/ipykernel_68632/3822657097.py:10: DeprecationWarning: Use get_tensor_name instead.\n",
      "  engine.get_binding_shape(engine.get_binding_index(\"bbox_pred0\"))\n",
      "/tmp/ipykernel_68632/3822657097.py:10: DeprecationWarning: Use get_tensor_shape instead.\n",
      "  engine.get_binding_shape(engine.get_binding_index(\"bbox_pred0\"))\n",
      "/tmp/ipykernel_68632/3822657097.py:11: DeprecationWarning: Use get_tensor_name instead.\n",
      "  engine.get_binding_shape(engine.get_binding_index(\"dir_cls_pred0\"))\n",
      "/tmp/ipykernel_68632/3822657097.py:11: DeprecationWarning: Use get_tensor_shape instead.\n",
      "  engine.get_binding_shape(engine.get_binding_index(\"dir_cls_pred0\"))\n",
      "/tmp/ipykernel_68632/3562344955.py:15: DeprecationWarning: Use get_tensor_shape instead.\n",
      "  h_inputs = [cuda.pagelocked_empty(trt.volume(engine.get_binding_shape(i)), dtype=np.float32) for i in range(3)]\n"
     ]
    },
    {
     "ename": "MemoryError",
     "evalue": "cuMemHostAlloc failed: out of memory",
     "output_type": "error",
     "traceback": [
      "\u001b[0;31m---------------------------------------------------------------------------\u001b[0m",
      "\u001b[0;31mMemoryError\u001b[0m                               Traceback (most recent call last)",
      "Cell \u001b[0;32mIn[34], line 13\u001b[0m\n\u001b[1;32m     10\u001b[0m engine\u001b[38;5;241m.\u001b[39mget_binding_shape(engine\u001b[38;5;241m.\u001b[39mget_binding_index(\u001b[38;5;124m\"\u001b[39m\u001b[38;5;124mbbox_pred0\u001b[39m\u001b[38;5;124m\"\u001b[39m))\n\u001b[1;32m     11\u001b[0m engine\u001b[38;5;241m.\u001b[39mget_binding_shape(engine\u001b[38;5;241m.\u001b[39mget_binding_index(\u001b[38;5;124m\"\u001b[39m\u001b[38;5;124mdir_cls_pred0\u001b[39m\u001b[38;5;124m\"\u001b[39m))\n\u001b[0;32m---> 13\u001b[0m \u001b[43mallocate_buffers\u001b[49m\u001b[43m(\u001b[49m\u001b[43mengine\u001b[49m\u001b[43m)\u001b[49m\n",
      "Cell \u001b[0;32mIn[33], line 15\u001b[0m, in \u001b[0;36mallocate_buffers\u001b[0;34m(engine)\u001b[0m\n\u001b[1;32m     13\u001b[0m \u001b[38;5;28;01mdef\u001b[39;00m \u001b[38;5;21mallocate_buffers\u001b[39m(engine):\n\u001b[1;32m     14\u001b[0m     \u001b[38;5;66;03m# Allocate pagelocked host memory for inputs and outputs\u001b[39;00m\n\u001b[0;32m---> 15\u001b[0m     h_inputs \u001b[38;5;241m=\u001b[39m [cuda\u001b[38;5;241m.\u001b[39mpagelocked_empty(trt\u001b[38;5;241m.\u001b[39mvolume(engine\u001b[38;5;241m.\u001b[39mget_binding_shape(i)), dtype\u001b[38;5;241m=\u001b[39mnp\u001b[38;5;241m.\u001b[39mfloat32) \u001b[38;5;28;01mfor\u001b[39;00m i \u001b[38;5;129;01min\u001b[39;00m \u001b[38;5;28mrange\u001b[39m(\u001b[38;5;241m3\u001b[39m)]\n\u001b[1;32m     16\u001b[0m     h_outputs \u001b[38;5;241m=\u001b[39m [cuda\u001b[38;5;241m.\u001b[39mpagelocked_empty(trt\u001b[38;5;241m.\u001b[39mvolume(engine\u001b[38;5;241m.\u001b[39mget_binding_shape(i \u001b[38;5;241m+\u001b[39m \u001b[38;5;241m3\u001b[39m)), dtype\u001b[38;5;241m=\u001b[39mnp\u001b[38;5;241m.\u001b[39mfloat32) \u001b[38;5;28;01mfor\u001b[39;00m i \u001b[38;5;129;01min\u001b[39;00m \u001b[38;5;28mrange\u001b[39m(\u001b[38;5;241m2\u001b[39m)]\n\u001b[1;32m     18\u001b[0m     \u001b[38;5;66;03m# Allocate device memory for inputs and outputs\u001b[39;00m\n",
      "Cell \u001b[0;32mIn[33], line 15\u001b[0m, in \u001b[0;36m<listcomp>\u001b[0;34m(.0)\u001b[0m\n\u001b[1;32m     13\u001b[0m \u001b[38;5;28;01mdef\u001b[39;00m \u001b[38;5;21mallocate_buffers\u001b[39m(engine):\n\u001b[1;32m     14\u001b[0m     \u001b[38;5;66;03m# Allocate pagelocked host memory for inputs and outputs\u001b[39;00m\n\u001b[0;32m---> 15\u001b[0m     h_inputs \u001b[38;5;241m=\u001b[39m [\u001b[43mcuda\u001b[49m\u001b[38;5;241;43m.\u001b[39;49m\u001b[43mpagelocked_empty\u001b[49m\u001b[43m(\u001b[49m\u001b[43mtrt\u001b[49m\u001b[38;5;241;43m.\u001b[39;49m\u001b[43mvolume\u001b[49m\u001b[43m(\u001b[49m\u001b[43mengine\u001b[49m\u001b[38;5;241;43m.\u001b[39;49m\u001b[43mget_binding_shape\u001b[49m\u001b[43m(\u001b[49m\u001b[43mi\u001b[49m\u001b[43m)\u001b[49m\u001b[43m)\u001b[49m\u001b[43m,\u001b[49m\u001b[43m \u001b[49m\u001b[43mdtype\u001b[49m\u001b[38;5;241;43m=\u001b[39;49m\u001b[43mnp\u001b[49m\u001b[38;5;241;43m.\u001b[39;49m\u001b[43mfloat32\u001b[49m\u001b[43m)\u001b[49m \u001b[38;5;28;01mfor\u001b[39;00m i \u001b[38;5;129;01min\u001b[39;00m \u001b[38;5;28mrange\u001b[39m(\u001b[38;5;241m3\u001b[39m)]\n\u001b[1;32m     16\u001b[0m     h_outputs \u001b[38;5;241m=\u001b[39m [cuda\u001b[38;5;241m.\u001b[39mpagelocked_empty(trt\u001b[38;5;241m.\u001b[39mvolume(engine\u001b[38;5;241m.\u001b[39mget_binding_shape(i \u001b[38;5;241m+\u001b[39m \u001b[38;5;241m3\u001b[39m)), dtype\u001b[38;5;241m=\u001b[39mnp\u001b[38;5;241m.\u001b[39mfloat32) \u001b[38;5;28;01mfor\u001b[39;00m i \u001b[38;5;129;01min\u001b[39;00m \u001b[38;5;28mrange\u001b[39m(\u001b[38;5;241m2\u001b[39m)]\n\u001b[1;32m     18\u001b[0m     \u001b[38;5;66;03m# Allocate device memory for inputs and outputs\u001b[39;00m\n",
      "\u001b[0;31mMemoryError\u001b[0m: cuMemHostAlloc failed: out of memory"
     ]
    }
   ],
   "source": [
    "engine = load_engine(\"deployed_models/hydra/end2end_fp16.engine\")\n",
    "\n",
    "# Inputs \n",
    "engine.get_binding_shape(engine.get_binding_index(\"voxels\"))\n",
    "engine.get_binding_shape(engine.get_binding_index(\"num_points\"))\n",
    "engine.get_binding_shape(engine.get_binding_index(\"coors\"))\n",
    "\n",
    "# Outputs\n",
    "engine.get_binding_shape(engine.get_binding_index(\"cls_score0\"))\n",
    "engine.get_binding_shape(engine.get_binding_index(\"bbox_pred0\"))\n",
    "engine.get_binding_shape(engine.get_binding_index(\"dir_cls_pred0\"))\n",
    "\n",
    "allocate_buffers(engine)"
   ]
  }
 ],
 "metadata": {
  "kernelspec": {
   "display_name": "Python 3",
   "language": "python",
   "name": "python3"
  },
  "language_info": {
   "codemirror_mode": {
    "name": "ipython",
    "version": 3
   },
   "file_extension": ".py",
   "mimetype": "text/x-python",
   "name": "python",
   "nbconvert_exporter": "python",
   "pygments_lexer": "ipython3",
   "version": "3.10.12"
  }
 },
 "nbformat": 4,
 "nbformat_minor": 2
}

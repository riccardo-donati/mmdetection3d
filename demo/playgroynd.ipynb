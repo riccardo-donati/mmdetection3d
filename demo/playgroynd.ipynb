{
 "cells": [
  {
   "cell_type": "code",
   "execution_count": 4,
   "metadata": {},
   "outputs": [],
   "source": [
    "import pickle\n",
    "\n",
    "# Replace 'your_file.pkl' with the path to your PKL file\n",
    "file_path = '../data/DonaSet/kittilidar_infos_test.pkl'\n",
    "\n",
    "# Reading the PKL file\n",
    "with open(file_path, 'rb') as file:\n",
    "    data = pickle.load(file)"
   ]
  },
  {
   "cell_type": "code",
   "execution_count": 5,
   "metadata": {},
   "outputs": [
    {
     "data": {
      "text/plain": [
       "{'metainfo': {'categories': {'Pedestrian': 0,\n",
       "   'Cyclist': 1,\n",
       "   'Car': 2,\n",
       "   'Van': 3,\n",
       "   'Truck': 4,\n",
       "   'Person_sitting': 5,\n",
       "   'Tram': 6,\n",
       "   'Misc': 7},\n",
       "  'dataset': 'kittilidar',\n",
       "  'info_version': '1.1'},\n",
       " 'data_list': [{'sample_idx': 6,\n",
       "   'lidar_points': {'num_pts_feats': 4, 'lidar_path': '000006.bin'},\n",
       "   'instances': []},\n",
       "  {'sample_idx': 7,\n",
       "   'lidar_points': {'num_pts_feats': 4, 'lidar_path': '000007.bin'},\n",
       "   'instances': []},\n",
       "  {'sample_idx': 8,\n",
       "   'lidar_points': {'num_pts_feats': 4, 'lidar_path': '000008.bin'},\n",
       "   'instances': []},\n",
       "  {'sample_idx': 9,\n",
       "   'lidar_points': {'num_pts_feats': 4, 'lidar_path': '000009.bin'},\n",
       "   'instances': []}]}"
      ]
     },
     "execution_count": 5,
     "metadata": {},
     "output_type": "execute_result"
    }
   ],
   "source": [
    "data"
   ]
  }
 ],
 "metadata": {
  "kernelspec": {
   "display_name": "pytorch_cuda123_env",
   "language": "python",
   "name": "python3"
  },
  "language_info": {
   "codemirror_mode": {
    "name": "ipython",
    "version": 3
   },
   "file_extension": ".py",
   "mimetype": "text/x-python",
   "name": "python",
   "nbconvert_exporter": "python",
   "pygments_lexer": "ipython3",
   "version": "3.10.12"
  }
 },
 "nbformat": 4,
 "nbformat_minor": 2
}

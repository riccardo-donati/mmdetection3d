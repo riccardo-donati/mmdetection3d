{
 "cells": [
  {
   "cell_type": "code",
   "execution_count": 11,
   "metadata": {},
   "outputs": [
    {
     "name": "stdout",
     "output_type": "stream",
     "text": [
      "s\n"
     ]
    }
   ],
   "source": [
    "import pickle\n",
    "\n",
    "# Replace 'your_file.pkl' with the path to your PKL file\n",
    "file_path = '../data/DonaSet/kittilidar_infos_test.pkl'\n",
    "\n",
    "# Reading the PKL file\n",
    "with open(file_path, 'rb') as file:\n",
    "    data = pickle.load(file)\n",
    "print(\"s\")"
   ]
  },
  {
   "cell_type": "code",
   "execution_count": 9,
   "metadata": {},
   "outputs": [
    {
     "data": {
      "text/plain": [
       "{'metainfo': {'categories': {'Pedestrian': 0,\n",
       "   'Cyclist': 1,\n",
       "   'Car': 2,\n",
       "   'Van': 3,\n",
       "   'Truck': 4,\n",
       "   'Person_sitting': 5,\n",
       "   'Tram': 6,\n",
       "   'Misc': 7},\n",
       "  'dataset': 'kittilidar',\n",
       "  'info_version': '1.1'},\n",
       " 'data_list': [{'sample_idx': 0,\n",
       "   'lidar_points': {'num_pts_feats': 4, 'lidar_path': '000000.bin'},\n",
       "   'instances': [{'bbox_label': 2,\n",
       "     'bbox_3d': [38.481, 0.076, 0.337, 4.9, 1.92, 1.25, 0.107],\n",
       "     'bbox_label_3d': 2,\n",
       "     'index': 0,\n",
       "     'group_id': 0}]},\n",
       "  {'sample_idx': 1,\n",
       "   'lidar_points': {'num_pts_feats': 4, 'lidar_path': '000001.bin'},\n",
       "   'instances': [{'bbox_label': 2,\n",
       "     'bbox_3d': [39.036, -0.085, 0.326, 4.9, 1.92, 1.25, 0.079],\n",
       "     'bbox_label_3d': 2,\n",
       "     'index': 0,\n",
       "     'group_id': 0}]},\n",
       "  {'sample_idx': 2,\n",
       "   'lidar_points': {'num_pts_feats': 4, 'lidar_path': '000002.bin'},\n",
       "   'instances': [{'bbox_label': 2,\n",
       "     'bbox_3d': [39.788, -0.605, 0.365, 4.9, 1.92, 1.25, 0.108],\n",
       "     'bbox_label_3d': 2,\n",
       "     'index': 0,\n",
       "     'group_id': 0}]},\n",
       "  {'sample_idx': 3,\n",
       "   'lidar_points': {'num_pts_feats': 4, 'lidar_path': '000003.bin'},\n",
       "   'instances': [{'bbox_label': 2,\n",
       "     'bbox_3d': [39.59, -0.171, 0.292, 4.9, 1.92, 1.25, 0.093],\n",
       "     'bbox_label_3d': 2,\n",
       "     'index': 0,\n",
       "     'group_id': 0}]},\n",
       "  {'sample_idx': 4,\n",
       "   'lidar_points': {'num_pts_feats': 4, 'lidar_path': '000004.bin'},\n",
       "   'instances': [{'bbox_label': 2,\n",
       "     'bbox_3d': [39.242, -0.503, 0.339, 4.9, 1.92, 1.25, 0.131],\n",
       "     'bbox_label_3d': 2,\n",
       "     'index': 0,\n",
       "     'group_id': 0}]},\n",
       "  {'sample_idx': 5,\n",
       "   'lidar_points': {'num_pts_feats': 4, 'lidar_path': '000005.bin'},\n",
       "   'instances': [{'bbox_label': 2,\n",
       "     'bbox_3d': [39.389, 1.495, 0.161, 4.9, 1.92, 1.25, 0.073],\n",
       "     'bbox_label_3d': 2,\n",
       "     'index': 0,\n",
       "     'group_id': 0}]}]}"
      ]
     },
     "execution_count": 9,
     "metadata": {},
     "output_type": "execute_result"
    }
   ],
   "source": []
  }
 ],
 "metadata": {
  "kernelspec": {
   "display_name": "pytorch_cuda123_env",
   "language": "python",
   "name": "python3"
  },
  "language_info": {
   "codemirror_mode": {
    "name": "ipython",
    "version": 3
   },
   "file_extension": ".py",
   "mimetype": "text/x-python",
   "name": "python",
   "nbconvert_exporter": "python",
   "pygments_lexer": "ipython3",
   "version": "3.10.12"
  }
 },
 "nbformat": 4,
 "nbformat_minor": 2
}
